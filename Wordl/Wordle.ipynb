{
 "cells": [
  {
   "cell_type": "code",
   "execution_count": 1,
   "id": "2f2c9281",
   "metadata": {},
   "outputs": [],
   "source": [
    "#Creating a code for a game Wordle\n",
    "#First we need to "
   ]
  },
  {
   "cell_type": "code",
   "execution_count": 1,
   "id": "8b7cddca",
   "metadata": {},
   "outputs": [],
   "source": [
    "import random # to be able to get random words everytime we run the code\n",
    "import sys "
   ]
  },
  {
   "cell_type": "code",
   "execution_count": 2,
   "id": "961b38b3",
   "metadata": {},
   "outputs": [],
   "source": [
    "#creates a question at the begining of the game\n",
    "def print_menu():\n",
    "    print(\"Are you ready to play Wordle?:\")"
   ]
  },
  {
   "cell_type": "code",
   "execution_count": 3,
   "id": "444ad4a1",
   "metadata": {},
   "outputs": [
    {
     "name": "stdout",
     "output_type": "stream",
     "text": [
      "Requirement already satisfied: termcolor in /opt/anaconda3/lib/python3.9/site-packages (1.1.0)\n",
      "Note: you may need to restart the kernel to use updated packages.\n"
     ]
    }
   ],
   "source": [
    " \n",
    "pip install termcolor "
   ]
  },
  {
   "cell_type": "code",
   "execution_count": 4,
   "id": "f8a2e680",
   "metadata": {},
   "outputs": [],
   "source": [
    "#import termcolor, so I can change the color of words\n",
    "from termcolor import colored\n"
   ]
  },
  {
   "cell_type": "code",
   "execution_count": 5,
   "id": "63c0586d",
   "metadata": {},
   "outputs": [],
   "source": [
    "#Creating a random word selection \n",
    "def read_random_word():\n",
    "    with open('words.txt') as f:\n",
    "        words = f.read().splitlines()\n",
    "        return random.choice(words)\n"
   ]
  },
  {
   "cell_type": "code",
   "execution_count": 6,
   "id": "27055766",
   "metadata": {},
   "outputs": [],
   "source": [
    "# Identifying the random word, if I delite print(word) then the answer will not show up \n",
    "word = read_random_word()\n",
    "#print(word)"
   ]
  },
  {
   "cell_type": "code",
   "execution_count": null,
   "id": "1ee69aeb",
   "metadata": {},
   "outputs": [
    {
     "name": "stdout",
     "output_type": "stream",
     "text": [
      "Are you ready to play Wordle?:\n",
      "later\n",
      "\u001b[30ml\u001b[0m\u001b[30ma\u001b[0m\u001b[30mt\u001b[0m\u001b[33me\u001b[0m\u001b[33mr\u001b[0m\n",
      "\n",
      "maybe\n",
      "\u001b[30mm\u001b[0m\u001b[30ma\u001b[0m\u001b[33my\u001b[0m\u001b[30mb\u001b[0m\u001b[33me\u001b[0m\n",
      "\n",
      "snake\n",
      "\u001b[33ms\u001b[0m\u001b[30mn\u001b[0m\u001b[30ma\u001b[0m\u001b[30mk\u001b[0m\u001b[33me\u001b[0m\n",
      "\n"
     ]
    }
   ],
   "source": [
    "print_menu()\n",
    "for attempt in range(6): #Creates attempr window to guess the words, 6 tries\n",
    "    guess = input().lower()\n",
    "    \n",
    "    for i in range(min(len(guess),5)): # only lets acept 5 letter word\n",
    "        if guess[i] == word[i]: \n",
    "            print(colored(guess[i], \"green\"), end = \"\")\n",
    "            \n",
    "        elif guess[i] in word:\n",
    "            print(colored(guess[i],\"yellow\"), end=\"\")\n",
    "            \n",
    "        else: \n",
    "            print(colored(guess[i], \"grey\"), end = \"\")\n",
    "           \n",
    "\n",
    "            if guess == word:\n",
    "                print(colored(guess,'green'), end=\"\")\n",
    "                print(colored(f\"You did it!\",'red'), end=\"\")\n",
    "        \n",
    "                break\n",
    "    print('\\n')       \n",
    "              \n",
    "        \n",
    "for attempt in range(1): # this prints the wright word at the end if you did not get that word right\n",
    "    print(colored(word, \"blue\"), end=\"\")\n",
    "\n",
    "        \n",
    "\n",
    "    "
   ]
  },
  {
   "cell_type": "code",
   "execution_count": null,
   "id": "3c43d680",
   "metadata": {},
   "outputs": [],
   "source": []
  },
  {
   "cell_type": "code",
   "execution_count": null,
   "id": "ebf891b5",
   "metadata": {},
   "outputs": [],
   "source": [
    "#Need to create function that will show what letters I have already used \n",
    "#and that are not in the word\n"
   ]
  }
 ],
 "metadata": {
  "kernelspec": {
   "display_name": "Python 3 (ipykernel)",
   "language": "python",
   "name": "python3"
  },
  "language_info": {
   "codemirror_mode": {
    "name": "ipython",
    "version": 3
   },
   "file_extension": ".py",
   "mimetype": "text/x-python",
   "name": "python",
   "nbconvert_exporter": "python",
   "pygments_lexer": "ipython3",
   "version": "3.9.7"
  }
 },
 "nbformat": 4,
 "nbformat_minor": 5
}
