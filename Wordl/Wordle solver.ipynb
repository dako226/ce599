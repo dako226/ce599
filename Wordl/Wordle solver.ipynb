{
 "cells": [
  {
   "cell_type": "code",
   "execution_count": null,
   "id": "58e82ca9",
   "metadata": {},
   "outputs": [],
   "source": [
    "# Wordle Solver "
   ]
  },
  {
   "cell_type": "code",
   "execution_count": 1,
   "id": "c73b26d4",
   "metadata": {},
   "outputs": [],
   "source": [
    "# Importing words\n",
    "guess_list = []\n",
    "def potential_word():\n",
    "    with open('words.txt') as f:\n",
    "        for line in f:\n",
    "            guess_list.append(line.strip())\n",
    "       "
   ]
  },
  {
   "cell_type": "code",
   "execution_count": 2,
   "id": "14672649",
   "metadata": {},
   "outputs": [
    {
     "name": "stdout",
     "output_type": "stream",
     "text": [
      "Type your firts word!\n",
      "\n",
      "word:snake\n",
      "g-green, y - yellow, b - black\n",
      "Outputybbby\n",
      "\n",
      "word:slowe\n",
      "g-green, y - yellow, b - black\n",
      "Outputggggg\n",
      "You did it!\n"
     ]
    }
   ],
   "source": [
    "print(\"Type your first word!\")\n",
    "\n",
    "for attempt in range (6):\n",
    "    guess = input(\"\\nword:\").lower()\n",
    "    print(\"g-green, y - yellow, b - black\")\n",
    "    output = input(\"Output\").lower()\n",
    "    if output == \"ggggg\":\n",
    "        print(\"You did it!\")\n",
    "        break\n",
    "        \n",
    "    potential_words = tuple(guess_list)\n",
    "    for word in potential_words:\n",
    "        for i in range(5):\n",
    "            if output[i] == \"b\" and guess[i] in word: \n",
    "                guess_list.remove(word)\n",
    "            if output[i] == \"g\" and guess[i] != word[i]: \n",
    "                guess_list.remove(word)\n",
    "            if output[i] == \"y\" and guess[i] not in word: \n",
    "                guess_list.remove(word)\n",
    "\n",
    "            if output[i] == \"g\" and guess[i] == word[i]: \n",
    "                guess_list.remove(word)\n",
    "    "
   ]
  },
  {
   "cell_type": "code",
   "execution_count": null,
   "id": "cbc2ae0e",
   "metadata": {},
   "outputs": [],
   "source": [
    "        "
   ]
  }
 ],
 "metadata": {
  "kernelspec": {
   "display_name": "Python 3 (ipykernel)",
   "language": "python",
   "name": "python3"
  },
  "language_info": {
   "codemirror_mode": {
    "name": "ipython",
    "version": 3
   },
   "file_extension": ".py",
   "mimetype": "text/x-python",
   "name": "python",
   "nbconvert_exporter": "python",
   "pygments_lexer": "ipython3",
   "version": "3.9.7"
  }
 },
 "nbformat": 4,
 "nbformat_minor": 5
}
