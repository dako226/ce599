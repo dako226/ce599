{
 "cells": [
  {
   "cell_type": "markdown",
   "metadata": {},
   "source": [
    "# Networks\n",
    "\n",
    "Networks are another important data structure in transportaiton.  Think roadway networks in particular, but many things can be represented as a network.  We'll go over a few basics in class. \n",
    "\n",
    "MPOs or DOTs with a travel model will maintain a network representation of the street network for use in the model.  This will have the attributes the model needs: free flow speed, capacity, length, directionality, turn restrictions, facility type, etc.  Usually, the best way to get a copy is to call up your friendly local transportation modeler and ask.  Even in this tech-crazy world, it is amazing how far asking politely will get you...\n",
    "\n",
    "...however, that's not what we're going to do here.  Instead, we are going to work with network data from OpenStreetMap: \n",
    "\n",
    "http://www.openstreetmap.org/\n",
    "\n",
    "To make it easier, we will work with a package called OSMnx, by Geoff Boeing. You can read a paper on the toolkit here: \n",
    "\n",
    "https://www.researchgate.net/publication/309738462_OSMNX_New_Methods_for_Acquiring_Constructing_Analyzing_and_Visualizing_Complex_Street_Networks\n",
    "\n",
    "And a blog post here: \n",
    "\n",
    "http://geoffboeing.com/2016/11/osmnx-python-street-networks/\n"
   ]
  },
  {
   "cell_type": "markdown",
   "metadata": {},
   "source": [
    "### Homework\n",
    "\n",
    "Your homework is to: \n",
    "\n",
    "1. Read the network paper linked above. \n",
    "\n",
    "2. Use the blog post to figure out how to install and use the package. \n",
    "\n",
    "3. Get the street network for Lexington.  \n",
    "\n",
    "4. Print the basic_stats for the network. \n",
    "\n",
    "5. Calculate and show the shortest path from your home (or another point of interest) to UK campus.  Is this the route you would take?  What is the same or different?\n",
    "\n",
    "6. Repeat step 5 for three other trips that you make regularly.  \n",
    "\n",
    " "
   ]
  },
  {
   "cell_type": "code",
   "execution_count": 1,
   "metadata": {
    "scrolled": true
   },
   "outputs": [
    {
     "name": "stdout",
     "output_type": "stream",
     "text": [
      "Requirement already satisfied: osmnx in /opt/anaconda3/lib/python3.9/site-packages (1.1.2)\n",
      "Requirement already satisfied: Rtree>=0.9 in /opt/anaconda3/lib/python3.9/site-packages (from osmnx) (0.9.7)\n",
      "Requirement already satisfied: matplotlib>=3.4 in /opt/anaconda3/lib/python3.9/site-packages (from osmnx) (3.4.3)\n",
      "Requirement already satisfied: networkx>=2.6 in /opt/anaconda3/lib/python3.9/site-packages (from osmnx) (2.6.3)\n",
      "Requirement already satisfied: requests>=2.26 in /opt/anaconda3/lib/python3.9/site-packages (from osmnx) (2.26.0)\n",
      "Requirement already satisfied: numpy>=1.21 in /opt/anaconda3/lib/python3.9/site-packages (from osmnx) (1.22.3)\n",
      "Requirement already satisfied: pandas>=1.3 in /opt/anaconda3/lib/python3.9/site-packages (from osmnx) (1.3.4)\n",
      "Requirement already satisfied: geopandas>=0.10 in /opt/anaconda3/lib/python3.9/site-packages (from osmnx) (0.10.2)\n",
      "Requirement already satisfied: Shapely<2.0,>=1.7 in /opt/anaconda3/lib/python3.9/site-packages (from osmnx) (1.8.1.post1)\n",
      "Requirement already satisfied: pyproj>=3.2 in /opt/anaconda3/lib/python3.9/site-packages (from osmnx) (3.3.0)\n",
      "Requirement already satisfied: fiona>=1.8 in /opt/anaconda3/lib/python3.9/site-packages (from geopandas>=0.10->osmnx) (1.8.21)\n",
      "Requirement already satisfied: click-plugins>=1.0 in /opt/anaconda3/lib/python3.9/site-packages (from fiona>=1.8->geopandas>=0.10->osmnx) (1.1.1)\n",
      "Requirement already satisfied: munch in /opt/anaconda3/lib/python3.9/site-packages (from fiona>=1.8->geopandas>=0.10->osmnx) (2.5.0)\n",
      "Requirement already satisfied: attrs>=17 in /opt/anaconda3/lib/python3.9/site-packages (from fiona>=1.8->geopandas>=0.10->osmnx) (21.2.0)\n",
      "Requirement already satisfied: setuptools in /opt/anaconda3/lib/python3.9/site-packages (from fiona>=1.8->geopandas>=0.10->osmnx) (58.0.4)\n",
      "Requirement already satisfied: certifi in /opt/anaconda3/lib/python3.9/site-packages (from fiona>=1.8->geopandas>=0.10->osmnx) (2021.10.8)\n",
      "Requirement already satisfied: six>=1.7 in /opt/anaconda3/lib/python3.9/site-packages (from fiona>=1.8->geopandas>=0.10->osmnx) (1.16.0)\n",
      "Requirement already satisfied: cligj>=0.5 in /opt/anaconda3/lib/python3.9/site-packages (from fiona>=1.8->geopandas>=0.10->osmnx) (0.7.2)\n",
      "Requirement already satisfied: click>=4.0 in /opt/anaconda3/lib/python3.9/site-packages (from fiona>=1.8->geopandas>=0.10->osmnx) (8.0.3)\n",
      "Requirement already satisfied: python-dateutil>=2.7 in /opt/anaconda3/lib/python3.9/site-packages (from matplotlib>=3.4->osmnx) (2.8.2)\n",
      "Requirement already satisfied: cycler>=0.10 in /opt/anaconda3/lib/python3.9/site-packages (from matplotlib>=3.4->osmnx) (0.10.0)\n",
      "Requirement already satisfied: pyparsing>=2.2.1 in /opt/anaconda3/lib/python3.9/site-packages (from matplotlib>=3.4->osmnx) (3.0.4)\n",
      "Requirement already satisfied: pillow>=6.2.0 in /opt/anaconda3/lib/python3.9/site-packages (from matplotlib>=3.4->osmnx) (8.4.0)\n",
      "Requirement already satisfied: kiwisolver>=1.0.1 in /opt/anaconda3/lib/python3.9/site-packages (from matplotlib>=3.4->osmnx) (1.3.1)\n",
      "Requirement already satisfied: pytz>=2017.3 in /opt/anaconda3/lib/python3.9/site-packages (from pandas>=1.3->osmnx) (2021.3)\n",
      "Requirement already satisfied: idna<4,>=2.5 in /opt/anaconda3/lib/python3.9/site-packages (from requests>=2.26->osmnx) (3.2)\n",
      "Requirement already satisfied: charset-normalizer~=2.0.0 in /opt/anaconda3/lib/python3.9/site-packages (from requests>=2.26->osmnx) (2.0.4)\n",
      "Requirement already satisfied: urllib3<1.27,>=1.21.1 in /opt/anaconda3/lib/python3.9/site-packages (from requests>=2.26->osmnx) (1.26.7)\n",
      "Note: you may need to restart the kernel to use updated packages.\n"
     ]
    }
   ],
   "source": [
    "pip install osmnx"
   ]
  },
  {
   "cell_type": "code",
   "execution_count": null,
   "metadata": {},
   "outputs": [],
   "source": []
  },
  {
   "cell_type": "code",
   "execution_count": null,
   "metadata": {},
   "outputs": [],
   "source": [
    "import osmnx as ox\n",
    "ox.plot_graph(ox.graph_from_place('Modena, Italy'))\n"
   ]
  },
  {
   "cell_type": "code",
   "execution_count": null,
   "metadata": {},
   "outputs": [],
   "source": []
  }
 ],
 "metadata": {
  "anaconda-cloud": {},
  "kernelspec": {
   "display_name": "Python 3 (ipykernel)",
   "language": "python",
   "name": "python3"
  },
  "language_info": {
   "codemirror_mode": {
    "name": "ipython",
    "version": 3
   },
   "file_extension": ".py",
   "mimetype": "text/x-python",
   "name": "python",
   "nbconvert_exporter": "python",
   "pygments_lexer": "ipython3",
   "version": "3.9.7"
  }
 },
 "nbformat": 4,
 "nbformat_minor": 1
}
