{
 "cells": [
  {
   "cell_type": "markdown",
   "metadata": {},
   "source": [
    "# Working with Data APIs\n",
    "\n",
    "**Adapted from: Sam Maurer // maurer@berkeley.edu // Oct. 3, 2016**\n",
    "\n",
    "This notebook provides a demonstration of data-access APIs that operate over the web. See README.md for setup instructions.\n",
    "\n",
    "In Part 1, we'll load and parse results from an API feed of earthquake data.  \n",
    "In Part 2, we'll add query parameters to the workflow, using the Google Maps Geolocation API as an example.  \n",
    "In Part 3, we'll use an authenticated API to query public Twitter posts. "
   ]
  },
  {
   "cell_type": "markdown",
   "metadata": {},
   "source": [
    "# Part 1: Reading from an automated data feed\n",
    "\n",
    "### USGS real-time earthquake feeds\n",
    "\n",
    "This is an API for near-real-time data about earthquakes. Data is provided in JSON format over the web. No authentication is needed, and there's no way to customize the output. Instead, the API has a separate endpoint for each permutation of the data that users might want.\n",
    "\n",
    "**API documentation:**  \n",
    "http://earthquake.usgs.gov/earthquakes/feed/v1.0/geojson.php\n",
    "\n",
    "**Sample API endpoint, for magnitude 4.5+ earthquakes in past day:**  \n",
    "http://earthquake.usgs.gov/earthquakes/feed/v1.0/summary/4.5_day.geojson  \n"
   ]
  },
  {
   "cell_type": "code",
   "execution_count": 1,
   "metadata": {},
   "outputs": [],
   "source": [
    "%matplotlib inline\n",
    "\n",
    "import pandas as pd\n",
    "\n",
    "import json    # library for working with JSON-formatted text strings\n",
    "import requests  # library for accessing content from web URLs\n",
    "\n",
    "import pprint  # library for making Python data structures readable\n",
    "pp = pprint.PrettyPrinter()"
   ]
  },
  {
   "cell_type": "code",
   "execution_count": 2,
   "metadata": {},
   "outputs": [
    {
     "name": "stdout",
     "output_type": "stream",
     "text": [
      "<class 'str'>\n"
     ]
    }
   ],
   "source": [
    "# download data on magnitude 2.5+ quakes from the past week\n",
    "\n",
    "endpoint_url = \"http://earthquake.usgs.gov/earthquakes/feed/v1.0/summary/2.5_week.geojson\"\n",
    "response = requests.get(endpoint_url)\n",
    "results = response.text\n",
    "\n",
    "# what is the data type of the results?\n",
    "print(type(results))"
   ]
  },
  {
   "cell_type": "code",
   "execution_count": 3,
   "metadata": {},
   "outputs": [
    {
     "name": "stdout",
     "output_type": "stream",
     "text": [
      "{\"type\":\"FeatureCollection\",\"metadata\":{\"generated\":1648582148000,\"url\":\"https://earthquake.usgs.gov/earthquakes/feed/v1.0/summary/2.5_week.geojson\",\"title\":\"USGS Magnitude 2.5+ Earthquakes, Past Week\",\"status\":200,\"api\":\"1.10.3\",\"count\":324},\"features\":[{\"type\":\"Feature\",\"properties\":{\"mag\":4.8,\"place\":\"28 km W of Poblacion, San Felipe, Philippines\",\"time\":1648580137258,\"updated\":1648581762040,\"tz\":null,\"url\":\"https://earthquake.usgs.gov/earthquakes/eventpage/us7000gy70\",\"detail\":\"https://earth\n"
     ]
    }
   ],
   "source": [
    "# print the first 500 characters to see a sample of the data\n",
    "\n",
    "print(results[:500])"
   ]
  },
  {
   "cell_type": "code",
   "execution_count": 28,
   "metadata": {},
   "outputs": [
    {
     "name": "stdout",
     "output_type": "stream",
     "text": [
      "<class 'dict'>\n"
     ]
    }
   ],
   "source": [
    "# it looks like the results are a string with JSON-formatted data inside\n",
    "\n",
    "# parse the string into a Python dictionary\n",
    "data = json.loads(results)\n",
    "\n",
    "print(type(data))"
   ]
  },
  {
   "cell_type": "code",
   "execution_count": 29,
   "metadata": {},
   "outputs": [
    {
     "name": "stdout",
     "output_type": "stream",
     "text": [
      "{'type': 'Feature', 'properties': {'mag': 4.8, 'place': '28 km W of Poblacion, San Felipe, Philippines', 'time': 1648580137258, 'updated': 1648581762040, 'tz': None, 'url': 'https://earthquake.usgs.gov/earthquakes/eventpage/us7000gy70', 'detail': 'https://earthquake.usgs.gov/earthquakes/feed/v1.0/detail/us7000gy70.geojson', 'felt': None, 'cdi': None, 'mmi': None, 'alert': None, 'status': 'reviewed', 'tsunami': 0, 'sig': 354, 'net': 'us', 'code': '7000gy70', 'ids': ',us7000gy70,', 'sources': ',us,', 'types': ',origin,phase-data,', 'nst': None, 'dmin': 7.845, 'rms': 0.69, 'gap': 94, 'magType': 'mb', 'type': 'earthquake', 'title': 'M 4.8 - 28 km W of Poblacion, San Felipe, Philippines'}, 'geometry': {'type': 'Point', 'coordinates': [119.8032, 15.025, 47.44]}, 'id': 'us7000gy70'}\n"
     ]
    }
   ],
   "source": [
    "# print the most recent quake\n",
    "\n",
    "quakes = data['features']\n",
    "print(quakes[0])"
   ]
  },
  {
   "cell_type": "code",
   "execution_count": 30,
   "metadata": {},
   "outputs": [
    {
     "name": "stdout",
     "output_type": "stream",
     "text": [
      "{'coordinates': [119.8032, 15.025, 47.44], 'type': 'Point'}\n",
      "{'alert': None,\n",
      " 'cdi': None,\n",
      " 'code': '7000gy70',\n",
      " 'detail': 'https://earthquake.usgs.gov/earthquakes/feed/v1.0/detail/us7000gy70.geojson',\n",
      " 'dmin': 7.845,\n",
      " 'felt': None,\n",
      " 'gap': 94,\n",
      " 'ids': ',us7000gy70,',\n",
      " 'mag': 4.8,\n",
      " 'magType': 'mb',\n",
      " 'mmi': None,\n",
      " 'net': 'us',\n",
      " 'nst': None,\n",
      " 'place': '28 km W of Poblacion, San Felipe, Philippines',\n",
      " 'rms': 0.69,\n",
      " 'sig': 354,\n",
      " 'sources': ',us,',\n",
      " 'status': 'reviewed',\n",
      " 'time': 1648580137258,\n",
      " 'title': 'M 4.8 - 28 km W of Poblacion, San Felipe, Philippines',\n",
      " 'tsunami': 0,\n",
      " 'type': 'earthquake',\n",
      " 'types': ',origin,phase-data,',\n",
      " 'tz': None,\n",
      " 'updated': 1648581762040,\n",
      " 'url': 'https://earthquake.usgs.gov/earthquakes/eventpage/us7000gy70'}\n"
     ]
    }
   ],
   "source": [
    "# print it more clearly\n",
    "\n",
    "pp.pprint(quakes[0]['geometry'])\n",
    "pp.pprint(quakes[0]['properties'])"
   ]
  },
  {
   "cell_type": "code",
   "execution_count": 39,
   "metadata": {},
   "outputs": [
    {
     "name": "stdout",
     "output_type": "stream",
     "text": [
      "M 4.8 - 28 km W of Poblacion, San Felipe, Philippines\n",
      "M 2.8 - 3km NNW of The Geysers, CA\n",
      "M 2.6 - 13km SSW of Salton City, CA\n",
      "M 4.6 - Fiji region\n",
      "M 5.0 - 143 km WNW of Naha, Japan\n",
      "M 5.4 - 140 km WNW of Naha, Japan\n",
      "M 5.5 - off the coast of Michoacan, Mexico\n",
      "M 4.9 - 80 km WNW of Cabra, Philippines\n",
      "M 4.4 - 62 km ESE of Ishinomaki, Japan\n",
      "M 4.6 - 46 km E of Ichinohe, Japan\n",
      "M 4.4 - 130 km WNW of Naha, Japan\n",
      "M 4.2 - 136 km NW of Hirara, Japan\n",
      "M 4.3 - 179 km WSW of Puerto Casma, Peru\n",
      "M 3.5 - 26 km E of Honaunau-Napoopoo, Hawaii\n",
      "M 2.5 - 22 km ENE of Honaunau-Napoopoo, Hawaii\n",
      "M 2.8 - 20 km ENE of Honaunau-Napoopoo, Hawaii\n",
      "M 2.5 - 8 km E of Skwentna, Alaska\n",
      "M 4.3 - 1 km ESE of Sardínia, Greece\n",
      "M 2.9 - 3 km SSE of Guánica, Puerto Rico\n",
      "M 3.7 - 114 km NE of Punta Cana, Dominican Republic\n",
      "M 2.7 - 7 km WSW of La Parguera, Puerto Rico\n",
      "M 4.4 - 71 km E of Hualien City, Taiwan\n",
      "M 2.6 - 40 km E of Port Alsworth, Alaska\n",
      "M 3.0 - 4 km S of Macclesfield, Australia\n",
      "M 4.5 - 6 km SSW of Tual, Indonesia\n",
      "M 5.2 - 234 km ESE of Tadine, New Caledonia\n",
      "M 2.7 - 53 km NW of Toyah, Texas\n",
      "M 2.6 - 17 km NE of West Yellowstone, Montana\n",
      "M 2.9 - 16 km SW of Coyanosa, Texas\n",
      "M 2.7 - 13 km ESE of Soda Springs, Idaho\n",
      "M 3.4 - 13 km NNE of Tierras Nuevas Poniente, Puerto Rico\n",
      "M 3.4 - 22 km NNW of Kalaoa, Hawaii\n",
      "M 3.2 - 7 km WSW of La Parguera, Puerto Rico\n",
      "M 4.5 - south of the Fiji Islands\n",
      "M 2.9 - 38 km SW of Nanwalek, Alaska\n",
      "M 2.5 - 18 km W of Nanwalek, Alaska\n",
      "M 4.3 - 148 km NE of Thang, India\n",
      "M 4.3 - 75 km ENE of Ustica, Italy\n",
      "M 4.9 - 87 km NNW of Isangel, Vanuatu\n",
      "M 2.8 - 16 km SW of Coyanosa, Texas\n",
      "M 2.6 - 57 km S of Whites City, New Mexico\n",
      "M 2.5 - 1 km SSE of Magas Arriba, Puerto Rico\n",
      "M 5.2 - Kermadec Islands, New Zealand\n",
      "M 2.9 - 154 km SW of Pelican, Alaska\n",
      "M 3.2 - 18 km SE of Esperanza, Puerto Rico\n",
      "M 4.7 - Andaman Islands, India region\n",
      "M 3.6 - 57 km S of Boca de Yuma, Dominican Republic\n",
      "M 4.3 - 30 km WSW of Labuan, Indonesia\n",
      "M 4.6 - 69 km E of Hualien City, Taiwan\n",
      "M 4.6 - 239 km E of Levuka, Fiji\n",
      "M 4.4 - 1 km ENE of El Cortezo, Panama\n",
      "M 2.6 - 64 km NNE of Van Horn, Texas\n",
      "M 5.4 - 153 km ENE of Savannah Bight, Honduras\n",
      "M 3.4 - 54 km NW of Toyah, Texas\n",
      "M 3.1 - 53 km NW of Toyah, Texas\n",
      "M 4.4 - 11 km ESE of Marihatag, Philippines\n",
      "M 2.8 - 54 km NW of Toyah, Texas\n",
      "M 4.6 - 86 km ENE of Namie, Japan\n",
      "M 3.2 - 54 km NW of Toyah, Texas\n",
      "M 3.0 - 10km SW of Niland, CA\n",
      "M 2.7 - 2 km N of Orocovis, Puerto Rico\n",
      "M 3.5 - 116 km S of Atka, Alaska\n",
      "M 2.6 - 82 km ENE of Ugashik, Alaska\n",
      "M 3.2 - Puerto Rico region\n",
      "M 4.4 - 84 km N of Basco, Philippines\n",
      "M 4.3 - south of the Fiji Islands\n",
      "M 3.4 - 34 km WSW of Stella, Puerto Rico\n",
      "M 2.6 - 9km SE of Lake Pillsbury, CA\n",
      "M 5.1 - South Sandwich Islands region\n",
      "M 2.5 - 7 km SE of Maria Antonia, Puerto Rico\n",
      "M 3.1 - 38 km N of Carrizales, Puerto Rico\n",
      "M 4.4 - 62 km WNW of Abra Pampa, Argentina\n",
      "M 2.8 - 65 km NNE of Van Horn, Texas\n",
      "M 4.5 - Banda Sea\n",
      "M 4.3 - 37 km NW of Ovalle, Chile\n",
      "M 2.8 - 11 km ENE of Pāhala, Hawaii\n",
      "M 2.9 - Puerto Rico region\n",
      "M 4.6 - south of the Fiji Islands\n",
      "M 2.8 - 25 km SW of Coyanosa, Texas\n",
      "M 3.4 - 15 km SW of Delta Junction, Alaska\n",
      "M 4.9 - 16 km S of Esmeraldas, Ecuador\n",
      "M 5.2 - 8 km E of Esmeraldas, Ecuador\n",
      "M 2.6 - 56 km NW of Toyah, Texas\n",
      "M 3.2 - 68 km N of Tierras Nuevas Poniente, Puerto Rico\n",
      "M 3.7 - 11 km NE of Punta Cana, Dominican Republic\n",
      "M 4.6 - 54 km W of Cartagena, Chile\n",
      "M 3.4 - Puerto Rico region\n",
      "M 3.3 - 68 km N of Tierras Nuevas Poniente, Puerto Rico\n",
      "M 3.3 - 64 km N of Tierras Nuevas Poniente, Puerto Rico\n",
      "M 4.3 - 28 km NE of Shizunai-furukawachō, Japan\n",
      "M 4.3 - 2 km NNW of Árma, Greece\n",
      "M 4.5 - 20 km N of Poso, Indonesia\n",
      "M 2.5 - 3 km SSW of Guánica, Puerto Rico\n",
      "M 2.6 - 4 km SSW of Indios, Puerto Rico\n",
      "M 3.3 - 5 km ENE of Edmond, Oklahoma\n",
      "M 3.8 - 21 km ESE of Boca de Yuma, Dominican Republic\n",
      "M 4.6 - 66 km SSE of Ishinomaki, Japan\n",
      "M 4.4 - 149 km WNW of Tiksi, Russia\n",
      "M 2.6 - 43 km NW of Toyah, Texas\n",
      "M 4.3 - 262 km WSW of La Cruz de Loreto, Mexico\n",
      "M 2.5 - 10 km WNW of Stanley, Idaho\n",
      "M 2.6 - 63 km NNE of Van Horn, Texas\n",
      "M 4.4 - 55 km E of Namie, Japan\n",
      "M 2.9 - 51 km SSW of Whites City, New Mexico\n",
      "M 4.7 - 125 km SW of Jiquilillo, Nicaragua\n",
      "M 2.7 - 36 km WSW of Mentone, Texas\n",
      "M 2.9 - 17 km ESE of Chickaloon, Alaska\n",
      "M 3.8 - 37 km WSW of Mentone, Texas\n",
      "M 2.5 - 55 km S of Whites City, New Mexico\n",
      "M 4.6 - 98 km E of Caucete, Argentina\n",
      "M 4.5 - 22 km SSW of Pandeglang, Indonesia\n",
      "M 5.2 - 13 km S of Esmeraldas, Ecuador\n",
      "M 4.3 - Kermadec Islands region\n",
      "M 2.5 - 51 km W of Nanwalek, Alaska\n",
      "M 5.8 - 9 km SE of Esmeraldas, Ecuador\n",
      "M 2.5 - 58 km S of Whites City, New Mexico\n",
      "M 2.9 - 72 km NNE of White Mountain, Alaska\n",
      "M 4.1 - 83 km ENE of Namie, Japan\n",
      "M 3.1 - 62 km NW of San Antonio, Puerto Rico\n",
      "M 2.5 - 6 km E of Sneedville, Tennessee\n",
      "M 5.1 - off the coast of Oregon\n",
      "M 5.6 - Mid-Indian Ridge\n",
      "M 3.8 - 66 km S of Hualien City, Taiwan\n",
      "M 5.0 - 52 km E of Shizunai-furukawachō, Japan\n",
      "M 4.1 - Banda Sea\n",
      "M 3.2 - 30 km NE of Yakutat, Alaska\n",
      "M 2.5 - northern Alaska\n",
      "M 4.0 - 129 km SW of Adak, Alaska\n",
      "M 4.6 - 95 km W of Kandrian, Papua New Guinea\n",
      "M 3.3 - 12 km SE of Fern Forest, Hawaii\n",
      "M 3.4 - 230 km SE of Chignik, Alaska\n",
      "M 4.6 - 45 km NNE of Basco, Philippines\n",
      "M 3.3 - 6km W of Walker, CA\n",
      "M 2.7 - 65 km NNE of Van Horn, Texas\n",
      "M 4.8 - 162 km WNW of Naha, Japan\n",
      "M 5.4 - 133 km WNW of Naha, Japan\n",
      "M 3.5 - 142 km SSW of Lanai City, Hawaii\n",
      "M 2.9 - 252 km W of Adak, Alaska\n",
      "M 4.7 - 126 km NNW of Maumere, Indonesia\n",
      "M 5.1 - 43 km NNE of Basco, Philippines\n",
      "M 4.7 - 38 km ENE of Kendari, Indonesia\n",
      "M 4.3 - 36 km E of Kendari, Indonesia\n",
      "M 3.8 - 121 km SSE of Sand Point, Alaska\n",
      "M 2.8 - 3 km S of Pāhala, Hawaii\n",
      "M 2.6 - 5km W of Walker, CA\n",
      "M 2.7 - 17 km ESE of Alamo, Nevada\n",
      "M 2.6 - 7km WSW of Avenal, CA\n",
      "M 2.8 - 33km ESE of Big Pine, CA\n",
      "M 2.7 - 24 km E of Chignik, Alaska\n",
      "M 3.0 - 4 km WSW of Guánica, Puerto Rico\n",
      "M 4.5 - 26 km NE of Kendari, Indonesia\n",
      "M 3.0 - Unimak Island region, Alaska\n",
      "M 4.9 - Fiji region\n",
      "M 4.5 - Fiji region\n",
      "M 2.7 - 36 km N of Petersville, Alaska\n",
      "M 2.6 - 5 km SSW of Indios, Puerto Rico\n",
      "M 2.5 - 18 km SSW of Central, Alaska\n",
      "M 2.5 - 57 km S of Whites City, New Mexico\n",
      "M 2.7 - 31 km S of Segundo, Colorado\n",
      "M 4.9 - 230 km NNW of Tobelo, Indonesia\n",
      "M 2.7 - 59 km S of Whites City, New Mexico\n",
      "M 3.0 - 4 km S of Indios, Puerto Rico\n",
      "M 4.9 - 82 km WNW of Naze, Japan\n",
      "M 2.5 - 6 km SW of Guánica, Puerto Rico\n",
      "M 4.6 - 190 km SSE of Katsuura, Japan\n",
      "M 5.0 - 140 km ESE of Kimbe, Papua New Guinea\n",
      "M 2.6 - 18 km SSE of Iquique, Chile\n",
      "M 3.7 - 10km WSW of Williams, CA\n",
      "M 4.4 - 5 km ESE of Monte Lirio, Panama\n",
      "M 5.0 - south of the Fiji Islands\n",
      "M 4.4 - 6 km S of Mazatán, Mexico\n",
      "M 5.0 - 53 km NW of Finschhafen, Papua New Guinea\n",
      "M 5.0 - 145 km SSW of Laojunmiao, China\n",
      "M 3.3 - 9 km NE of Nicola Town, Saint Kitts and Nevis\n",
      "M 2.5 - 32 km WNW of Beluga, Alaska\n",
      "M 4.5 - 147 km SSW of Laojunmiao, China\n",
      "M 4.1 - 10 km ESE of Chimbarongo, Chile\n",
      "M 5.0 - 147 km SSW of Laojunmiao, China\n",
      "M 2.7 - 5km W of Walker, CA\n",
      "M 5.7 - 147 km SSW of Laojunmiao, China\n",
      "M 3.3 - 254 km SE of Chiniak, Alaska\n",
      "M 4.5 - 56 km WNW of Manokwari, Indonesia\n",
      "M 2.5 - 65 km SSW of Whites City, New Mexico\n",
      "M 3.1 - 35 km SE of Denali National Park, Alaska\n",
      "M 2.5 - Central Alaska\n",
      "M 2.8 - 4 km S of Pāhala, Hawaii\n",
      "M 4.7 - 37 km ENE of Namie, Japan\n",
      "M 4.3 - 104 km W of Port-Vila, Vanuatu\n",
      "M 4.7 - 36 km NE of Kendari, Indonesia\n",
      "M 4.5 - 59 km NNE of Beauséjour, Guadeloupe\n",
      "M 3.0 - 4 km S of Pāhala, Hawaii\n",
      "M 3.1 - 4 km S of Pāhala, Hawaii\n",
      "M 4.4 - 97 km E of Gorontalo, Indonesia\n",
      "M 5.3 - south of the Kermadec Islands\n",
      "M 4.5 - 40 km E of Nemuro, Japan\n",
      "M 2.6 - 66 km SSW of Whites City, New Mexico\n",
      "M 2.6 - 65 km NNE of Van Horn, Texas\n",
      "M 4.2 - 17 km S of San Francisco Cozoaltepec, Mexico\n",
      "M 2.6 - 22 km WNW of La Huerta, New Mexico\n",
      "M 3.2 - 17 km SE of Esperanza, Puerto Rico\n",
      "M 3.4 - 94 km W of Kailua-Kona, Hawaii\n",
      "M 3.6 - 261 km SE of Chiniak, Alaska\n",
      "M 2.8 - Alaska Peninsula\n",
      "M 3.3 - 54 km S of Whites City, New Mexico\n",
      "M 2.6 - 55 km S of Whites City, New Mexico\n",
      "M 5.1 - 65 km NE of Ishigaki, Japan\n",
      "M 5.2 - 32 km ENE of Namie, Japan\n",
      "M 4.6 - 56 km S of Whites City, New Mexico\n",
      "M 4.5 - 236 km W of Tual, Indonesia\n",
      "M 5.4 - 60 km N of Lae, Papua New Guinea\n",
      "M 2.5 - 4 km SSE of Maria Antonia, Puerto Rico\n",
      "M 4.4 - 20 km E of Shibetsu, Japan\n",
      "M 5.3 - 6 km NNW of Chivay, Peru\n",
      "M 3.1 - 6 km ENE of La Parguera, Puerto Rico\n",
      "M 4.2 - Revilla Gigedo Islands region\n",
      "M 2.5 - 3 km ESE of Pole Ojea, Puerto Rico\n",
      "M 4.8 - 105 km WSW of San Nicolas, Philippines\n",
      "M 4.9 - 57 km NE of Nogliki, Russia\n",
      "M 4.7 - 277 km WSW of Tual, Indonesia\n",
      "M 4.8 - 94 km WNW of Cabra, Philippines\n",
      "M 2.6 - 7 km ESE of Pole Ojea, Puerto Rico\n",
      "M 4.6 - 80 km WNW of Cabra, Philippines\n",
      "M 2.6 - 62 km SSW of Whites City, New Mexico\n",
      "M 4.6 - 79 km WNW of Cabra, Philippines\n",
      "M 2.8 - 30 km NNE of Petersville, Alaska\n",
      "M 4.5 - 107 km SSW of La Esperanza (El Zapotal), Mexico\n",
      "M 2.6 - 39 km NW of San Antonio, Puerto Rico\n",
      "M 4.8 - 251 km SSW of Jimbaran, Indonesia\n",
      "M 4.3 - 179 km SSW of Atka, Alaska\n",
      "M 5.2 - south of the Kermadec Islands\n",
      "M 3.2 - 64 km N of San Antonio, Puerto Rico\n",
      "M 2.7 - 48 km ENE of Fort Bidwell, California\n",
      "M 2.8 - 5 km SW of Guánica, Puerto Rico\n",
      "M 3.2 - 60 km SE of Denali National Park, Alaska\n",
      "M 4.7 - 44 km W of Amahai, Indonesia\n",
      "M 2.7 - 57 km S of Whites City, New Mexico\n",
      "M 4.6 - 87 km S of San Francisco del Mar Viejo, Mexico\n",
      "M 4.0 - 65 km NNE of Van Horn, Texas\n",
      "M 4.6 - 21 km WSW of Manalongon, Philippines\n",
      "M 4.2 - 6 km W of Ramón Santana, Dominican Republic\n",
      "M 2.6 - 1 km WSW of Indios, Puerto Rico\n",
      "M 2.5 - 7km NW of The Geysers, CA\n",
      "M 2.6 - 6 km SW of Guánica, Puerto Rico\n",
      "M 3.1 - 3 km N of Olimpo, Puerto Rico\n",
      "M 2.7 - 44 km SSE of Perryville, Alaska\n",
      "M 2.8 - 49 km ENE of Fort Bidwell, California\n",
      "M 2.8 - 3 km S of Pāhala, Hawaii\n",
      "M 4.7 - Galapagos Triple Junction region\n",
      "M 4.6 - 49 km ESE of Port-Olry, Vanuatu\n",
      "M 4.3 - 36 km SE of Iwaki, Japan\n",
      "M 4.5 - south of the Fiji Islands\n",
      "M 2.9 - 5 km SSE of Gardendale, Texas\n",
      "M 4.5 - 6 km SSE of Fukayachō, Japan\n",
      "M 3.6 - 83 km N of Culebra, Puerto Rico\n",
      "M 2.9 - 55 km NNW of Petersville, Alaska\n",
      "M 3.7 - 79 km N of Culebra, Puerto Rico\n",
      "M 2.8 - 55 km SSW of Whites City, New Mexico\n",
      "M 3.1 - 64 km SSW of Whites City, New Mexico\n",
      "M 4.5 - 80 km ENE of Namie, Japan\n",
      "M 3.0 - 15 km S of Guánica, Puerto Rico\n",
      "M 4.3 - Pagan region, Northern Mariana Islands\n",
      "M 3.4 - 96 km SW of Pole Ojea, Puerto Rico\n",
      "M 4.7 - 11 km NW of San José del Palmar, Colombia\n",
      "M 5.2 - 55 km S of Hualien City, Taiwan\n",
      "M 4.2 - 62 km S of Hualien City, Taiwan\n",
      "M 3.3 - 94 km SW of Pole Ojea, Puerto Rico\n",
      "M 4.9 - 64 km WNW of Manokwari, Indonesia\n",
      "M 4.4 - 20 km S of Ōfunato, Japan\n",
      "M 5.0 - 256 km S of ‘Ohonua, Tonga\n",
      "M 4.5 - 97 km SE of Ishinomaki, Japan\n",
      "M 2.9 - 18 km S of Guánica, Puerto Rico\n",
      "M 5.1 - 142 km WNW of Naha, Japan\n",
      "M 2.8 - 18 km S of Guánica, Puerto Rico\n",
      "M 6.0 - 36 km ESE of Port-Olry, Vanuatu\n",
      "M 4.3 - 126 km WSW of Santiago de Cao, Peru\n",
      "M 5.5 - 238 km S of ‘Ohonua, Tonga\n",
      "M 4.7 - 63 km S of Hualien City, Taiwan\n",
      "M 4.6 - 76 km WNW of Cabra, Philippines\n",
      "M 5.1 - 18 km N of Jérémie, Haiti\n",
      "M 4.7 - 67 km E of Port Alsworth, Alaska\n",
      "M 4.7 - 66 km E of Port Alsworth, Alaska\n",
      "M 4.4 - 114 km ENE of Khorugh, Tajikistan\n",
      "M 5.2 - 145 km WNW of Naha, Japan\n",
      "M 4.3 - 8 km W of Metsavan, Armenia\n",
      "M 4.2 - 105 km SE of Antofagasta, Chile\n",
      "M 4.9 - 77 km W of Tobelo, Indonesia\n",
      "M 4.8 - south of the Kermadec Islands\n",
      "M 4.2 - 118 km NE of Iquique, Chile\n",
      "M 2.7 - 8 km SSE of Guánica, Puerto Rico\n",
      "M 2.8 - 170 km WSW of Port Orford, Oregon\n",
      "M 2.6 - 8 km SSE of Falls City, Texas\n",
      "M 5.1 - 95 km N of San Vicente, Philippines\n",
      "M 5.2 - southeast of the Loyalty Islands\n",
      "M 4.4 - 100 km E of Shikotan, Russia\n",
      "M 4.5 - 64 km ENE of Namie, Japan\n",
      "M 3.8 - 100 km NE of Cruz Bay, U.S. Virgin Islands\n",
      "M 5.2 - 59 km WNW of Manokwari, Indonesia\n",
      "M 2.8 - 2km N of Redway, CA\n",
      "M 4.5 - 74 km S of Hualien City, Taiwan\n",
      "M 4.4 - 87 km NW of San Antonio de los Cobres, Argentina\n",
      "M 2.5 - 15 km S of Fern Forest, Hawaii\n",
      "M 2.8 - 4 km WSW of Guánica, Puerto Rico\n",
      "M 2.5 - Rat Islands, Aleutian Islands, Alaska\n",
      "M 4.8 - 137 km WNW of Naha, Japan\n",
      "M 4.2 - 71 km ENE of Namie, Japan\n",
      "M 4.3 - 13 km WNW of Benemérito de las Américas, Mexico\n",
      "M 4.2 - 95 km E of Iquique, Chile\n",
      "M 3.1 - 110 km NNE of Atka, Alaska\n",
      "M 2.6 - 1km ENE of San Fernando, CA\n",
      "M 4.5 - 65 km S of Hualien City, Taiwan\n",
      "M 5.1 - southern Mid-Atlantic Ridge\n",
      "M 2.5 - 5 km WSW of Fuig, Puerto Rico\n",
      "M 4.0 - 53 km NW of Skardu, Pakistan\n",
      "M 4.5 - 51 km NNE of Nanao, Japan\n",
      "M 4.3 - 46 km SSW of Nueva Concepción, Guatemala\n",
      "M 4.2 - 73 km WSW of Santiago de Cao, Peru\n",
      "M 4.3 - 62 km S of Hualien City, Taiwan\n",
      "M 4.2 - 57 km S of Hualien City, Taiwan\n",
      "M 2.5 - 7 km SSE of Indios, Puerto Rico\n",
      "M 4.7 - 68 km SSW of Hualien City, Taiwan\n",
      "M 4.6 - 45 km NNW of San Antonio de los Cobres, Argentina\n",
      "M 2.5 - 2 km W of Guánica, Puerto Rico\n",
      "M 5.8 - 63 km S of Hualien City, Taiwan\n",
      "M 5.7 - 53 km S of Hualien City, Taiwan\n"
     ]
    }
   ],
   "source": [
    "# pull out the title from each earthquake listing\n",
    "\n",
    "for q in quakes:\n",
    "    print(q['properties']['title'])"
   ]
  },
  {
   "cell_type": "code",
   "execution_count": 8,
   "metadata": {},
   "outputs": [
    {
     "name": "stdout",
     "output_type": "stream",
     "text": [
      "324\n"
     ]
    }
   ],
   "source": [
    "# pull out magnitudes and depths into a Pandas dataframe, using\n",
    "# a more compact Python syntax for iterating through lists\n",
    "\n",
    "d = {'magnitude': [q['properties']['mag'] for q in quakes],\n",
    "     'depth': [q['geometry']['coordinates'][2] for q in quakes]}\n",
    "\n",
    "df = pd.DataFrame.from_dict(d)\n",
    "\n",
    "# how many earthquakes were loaded into the dataframe?\n",
    "print(len(df))"
   ]
  },
  {
   "cell_type": "code",
   "execution_count": 9,
   "metadata": {},
   "outputs": [
    {
     "name": "stdout",
     "output_type": "stream",
     "text": [
      "   magnitude   depth\n",
      "0       4.80   47.44\n",
      "1       2.75    0.48\n",
      "2       2.56    6.52\n",
      "3       4.60  605.60\n",
      "4       5.00   10.00\n"
     ]
    }
   ],
   "source": [
    "# print the first few lines of data\n",
    "\n",
    "print(df.head())"
   ]
  },
  {
   "cell_type": "code",
   "execution_count": 10,
   "metadata": {},
   "outputs": [
    {
     "name": "stdout",
     "output_type": "stream",
     "text": [
      "        magnitude       depth\n",
      "count  324.000000  324.000000\n",
      "mean     3.811128   50.863434\n",
      "std      0.968520   95.492424\n",
      "min      2.450000   -1.230000\n",
      "25%      2.800000   10.000000\n",
      "50%      4.100000   10.870000\n",
      "75%      4.600000   49.075000\n",
      "max      6.000000  605.600000\n"
     ]
    }
   ],
   "source": [
    "# print some descriptive statistics\n",
    "\n",
    "print(df.describe())"
   ]
  },
  {
   "cell_type": "code",
   "execution_count": 11,
   "metadata": {},
   "outputs": [
    {
     "data": {
      "text/plain": [
       "<AxesSubplot:xlabel='magnitude', ylabel='depth'>"
      ]
     },
     "execution_count": 11,
     "metadata": {},
     "output_type": "execute_result"
    },
    {
     "data": {
      "image/png": "[encoded data removed]",
      "text/plain": [
       "<Figure size 432x288 with 1 Axes>"
      ]
     },
     "metadata": {
      "needs_background": "light"
     },
     "output_type": "display_data"
    }
   ],
   "source": [
    "# plot the depth vs. magnitude\n",
    "\n",
    "df.plot(x='magnitude', y='depth', kind='scatter')"
   ]
  },
  {
   "cell_type": "code",
   "execution_count": 12,
   "metadata": {},
   "outputs": [
    {
     "name": "stdout",
     "output_type": "stream",
     "text": [
      "file saved\n"
     ]
    }
   ],
   "source": [
    "# save the dataframe to disk\n",
    "\n",
    "df.to_csv('usgs_earthquake_data.csv')\n",
    "\n",
    "print('file saved')"
   ]
  },
  {
   "cell_type": "code",
   "execution_count": 13,
   "metadata": {},
   "outputs": [
    {
     "name": "stdout",
     "output_type": "stream",
     "text": [
      "   Unnamed: 0  magnitude   depth\n",
      "0           0       4.80   47.44\n",
      "1           1       2.75    0.48\n",
      "2           2       2.56    6.52\n",
      "3           3       4.60  605.60\n",
      "4           4       5.00   10.00\n"
     ]
    }
   ],
   "source": [
    "# read it back later\n",
    "\n",
    "new_df = pd.read_csv('usgs_earthquake_data.csv')\n",
    "\n",
    "print(new_df.head())"
   ]
  },
  {
   "cell_type": "code",
   "execution_count": null,
   "metadata": {},
   "outputs": [],
   "source": [
    "#Exercise of Earthquakes"
   ]
  },
  {
   "cell_type": "code",
   "execution_count": 43,
   "metadata": {},
   "outputs": [
    {
     "name": "stdout",
     "output_type": "stream",
     "text": [
      "[119.8032, 15.025, 47.44]\n",
      "[-122.7716675, 38.7996674, 0.48]\n",
      "[-116.0031667, 33.1905, 6.52]\n",
      "[-179.4089, -21.7095, 605.6]\n",
      "[126.3864, 26.779, 10]\n",
      "[126.4369, 26.8123, 10]\n",
      "[-104.396, 15.2266, 10]\n",
      "[119.3435, 14.109, 10]\n",
      "[141.9988, 38.286, 35]\n",
      "[141.8255, 40.1422, 33.46]\n",
      "[126.5865, 26.8631, 10]\n",
      "[124.55, 25.8291, 189.37]\n",
      "[-79.802, -10.2702, 10]\n",
      "[-155.616166666667, 19.42, -0.79]\n",
      "[-155.658828735352, 19.5021667480469, -1.23000001907349]\n",
      "[-155.677, 19.5085, 5.11]\n",
      "[-151.2371, 61.9928, 68.2]\n",
      "[21.2267, 38.8865, 10]\n",
      "[-66.8941666666667, 17.9443333333333, 7.26]\n",
      "[-67.7135, 19.375, 49]\n",
      "[-67.1073333333333, 17.9455, 10.94]\n",
      "[122.3055, 23.9243, 10]\n",
      "[-153.5874, 60.1596, 166]\n",
      "[138.8378, -35.2131, 10]\n",
      "[132.723, -5.6818, 10]\n",
      "[170.069, -22.1111, 10]\n",
      "[-104.2152, 31.6384, 5]\n",
      "[-110.922, 44.7578333, 10.21]\n",
      "[-103.1901, 31.1443, 6.44]\n",
      "[-111.4633333, 42.5991667, 3.79]\n",
      "[-66.4228333333333, 18.562, 78.96]\n",
      "[-156.091333333333, 19.8993333333333, 46.54]\n",
      "[-67.1143333333333, 17.956, 10.71]\n",
      "[-179.7865, -23.7103, 530.38]\n",
      "[-152.3265, 59.0758, 49.3]\n",
      "[-152.2327, 59.3864, 66.9]\n",
      "[77.8065, 35.9756, 10]\n",
      "[14.0079, 38.9551, 400.11]\n",
      "[169.1003, -18.7663, 208.17]\n",
      "[-103.2066333, 31.15696274, 4.614794922]\n",
      "[-104.333, 31.6603, 5]\n",
      "[-66.7623333333333, 18.0043333333333, 12.22]\n",
      "[-177.7962, -30.108, 44.54]\n",
      "[-138.2855, 57.1226, 10]\n",
      "[-65.3523333333333, 17.9743333333333, 7.19]\n",
      "[93.0138, 14.63, 10]\n",
      "[-68.5596, 17.8638, 80]\n",
      "[105.5596, -6.4365, 140.97]\n",
      "[122.29, 23.932, 10]\n",
      "[-178.4336, -17.8326, 554.11]\n",
      "[-80.6192, 7.4318, 10]\n",
      "[-104.5507, 31.5678, 5]\n",
      "[-84.6182, 17.1749, 10]\n",
      "[-104.2237336, 31.63946138, 7.519799805]\n",
      "[-104.2075, 31.6409, 5]\n",
      "[126.3942, 8.7622, 78.17]\n",
      "[-104.2116, 31.6481, 5.47]\n",
      "[141.9295, 37.7352, 58.16]\n",
      "[-104.2133291, 31.65215327, 6.157275391]\n",
      "[-115.6095, 33.1831667, 2.28]\n",
      "[-66.3906666666667, 18.2535, 31.69]\n",
      "[-174.1025, 51.1518, 10]\n",
      "[-156.0895, 57.7589, 115.38]\n",
      "[-66.9666666666667, 18.7335, 56.17]\n",
      "[122.0552, 21.21, 177.61]\n",
      "[-178.1272, -22.8271, 348.62]\n",
      "[-67.5583333333333, 18.219, 25.29]\n",
      "[-122.8886667, 39.3458333, 8.76]\n",
      "[-25.4109, -58.7329, 35]\n",
      "[-66.8506666666667, 17.9241666666667, 12.11]\n",
      "[-66.7225, 18.822, 40.77]\n",
      "[-66.2711, -22.5371, 243.08]\n",
      "[-104.5827, 31.5882, 5]\n",
      "[129.9342, -6.4463, 152.61]\n",
      "[-71.4476, -30.3376, 35.56]\n",
      "[-155.382833333333, 19.2535, 32.24]\n",
      "[-66.8755, 17.8803333333333, 13.36]\n",
      "[-177.7189, -22.6667, 298.95]\n",
      "[-103.2443929, 31.0715764, 2.866650391]\n",
      "[-145.9625, 63.9426, 2.6]\n",
      "[-79.6639, 0.8097, 46.48]\n",
      "[-79.5796, 0.9497, 8.13]\n",
      "[-104.2359125, 31.64927944, 7.699755859]\n",
      "[-66.478, 19.08, 28.95]\n",
      "[-68.3295, 18.6583, 113]\n",
      "[-72.1914, -33.5571, 19.4]\n",
      "[-66.4715, 19.1173333333333, 22.96]\n",
      "[-66.4706666666667, 19.0796666666667, 38.42]\n",
      "[-66.4603333333333, 19.0428333333333, 40.6]\n",
      "[142.6138, 42.5182, 36.31]\n",
      "[23.4689, 38.373, 10]\n",
      "[120.7801, -1.21, 10]\n",
      "[-66.9196666666667, 17.9458333333333, 9.4]\n",
      "[-66.8405, 17.9543333333333, 16.42]\n",
      "[-97.42216667, 35.674, 7.08]\n",
      "[-68.4233, 18.3031, 3]\n",
      "[141.6567, 37.8843, 65.08]\n",
      "[125.03, 72.318, 10]\n",
      "[-104.0986, 31.6117, 5]\n",
      "[-107.5766, 18.7527, 10]\n",
      "[-115.061, 44.2523333, 8.46]\n",
      "[-104.574, 31.5692, 4.8]\n",
      "[141.6244, 37.4792, 56.92]\n",
      "[-104.5082294, 31.72822524, 5.154663086]\n",
      "[-88.2734, 11.9477, 10]\n",
      "[-103.9664, 31.6127, 3.28]\n",
      "[-148.1585, 61.7451, 20.1]\n",
      "[-103.9782366, 31.61383378, 7.93112793]\n",
      "[-104.4007, 31.6766, 5]\n",
      "[-67.2431, -31.6909, 125.81]\n",
      "[106.0525, -6.508, 144.21]\n",
      "[-79.6443, 0.8396, 10.49]\n",
      "[-179.0287, -29.887, 224.01]\n",
      "[-152.8319, 59.3951, 72.1]\n",
      "[-79.5894, 0.9088, 26.52]\n",
      "[-104.4027, 31.6495, 5]\n",
      "[-163.0654, 65.3149, 16.27]\n",
      "[141.8591, 37.8, 66.28]\n",
      "[-67.4485, 18.9468333333333, 17.32]\n",
      "[-83.1498333, 36.5358333, 9.78]\n",
      "[-129.4524, 44.1165, 10]\n",
      "[66.171, -13.809, 10.15]\n",
      "[121.5044, 23.3805, 18.97]\n",
      "[143.0013, 42.3512, 58.43]\n",
      "[129.9243, -6.7763, 114.28]\n",
      "[-139.3667, 59.7452, 0]\n",
      "[-163.507, 65.8121, 13.66]\n",
      "[-178.1783, 51.2187, 47.25]\n",
      "[148.6887, -6.283, 53.39]\n",
      "[-155.066, 19.3726666666667, 6.73]\n",
      "[-156.0677, 54.7006, 11.9]\n",
      "[122.1716, 20.8152, 10]\n",
      "[-119.5428333, 38.5136667, -0.46]\n",
      "[-104.5797334, 31.59278925, 6.568603515999999]\n",
      "[126.3125, 27.0102, 10]\n",
      "[126.5065, 26.8002, 10]\n",
      "[-157.5172, 19.667, 16.23]\n",
      "[179.7036, 52.1164, 176.1]\n",
      "[121.7325, -7.5785, 10]\n",
      "[122.0982, 20.8222, 10]\n",
      "[122.825, -3.8154, 10]\n",
      "[122.8479, -3.9683, 10]\n",
      "[-159.6874, 54.3543, 20.91]\n",
      "[-155.477666666667, 19.1743333333333, 31.83]\n",
      "[-119.5418333, 38.5153333, -0.78]\n",
      "[-114.9832, 37.3046, 2.7]\n",
      "[-120.2005, 35.9705, 18.78]\n",
      "[-117.9348333, 37.0676667, 8.44]\n",
      "[-158.0076, 56.2598, 89.1]\n",
      "[-66.9456, 17.9616, 7]\n",
      "[122.7013, -3.8261, 10]\n",
      "[-164.1616, 55.3266, 169.99]\n",
      "[-178.8147, -20.8124, 597.7]\n",
      "[-178.8459, -20.7478, 595.85]\n",
      "[-150.8713, 62.8222, 91.4]\n",
      "[-66.84, 17.952, 12.37]\n",
      "[-145.0025, 65.4278, 5.8]\n",
      "[-104.4208505, 31.65714076, 4.846166992]\n",
      "[-104.814, 36.8428, 5]\n",
      "[126.8757, 3.4717, 75.58]\n",
      "[-104.4071, 31.6399, 5]\n",
      "[-66.8145, 17.951, 9.79]\n",
      "[128.7134, 28.6755, 10]\n",
      "[-66.959, 17.9335, 11.63]\n",
      "[141.2056, 33.5933, 35]\n",
      "[151.3799, -5.8247, 35]\n",
      "[-70.0684, -20.3624, 17.97]\n",
      "[-122.2585, 39.1266667, -0.49]\n",
      "[-82.7762, 8.7831, 10]\n",
      "[-179.5798, -24.415, 507.53]\n",
      "[-92.4427, 14.8037, 87.49]\n",
      "[147.5771, -6.1551, 57.7]\n",
      "[97.3007, 38.5694, 10]\n",
      "[-62.6982, 17.4477, 12.23]\n",
      "[-151.667, 61.2122, 68.3]\n",
      "[97.2371, 38.5597, 10]\n",
      "[-70.9373, -34.7587, 108.92]\n",
      "[97.296, 38.5517, 10]\n",
      "[-119.5386667, 38.5188333, 0.1]\n",
      "[97.2948, 38.5457, 10]\n",
      "[-148.7812, 56.3516, 10]\n",
      "[133.5884, -0.6901, 33.17]\n",
      "[-104.5184216, 31.59325903, 5.540283203000001]\n",
      "[-151.1754, 63.3387, 6]\n",
      "[-151.2453, 63.3169, 7]\n",
      "[-155.476333333333, 19.1615, 32.41]\n",
      "[141.4066, 37.5831, 51.79]\n",
      "[167.3331, -17.8461, 10]\n",
      "[122.785, -3.7875, 10]\n",
      "[-60.9004, 16.8113, 37.78]\n",
      "[-155.4725, 19.164, 31.73]\n",
      "[-155.474333333333, 19.1651666666667, 31.82]\n",
      "[123.9301, 0.4001, 203]\n",
      "[-178.5481, -33.884, 10]\n",
      "[146.0724, 43.3861, 91.82]\n",
      "[-104.5377352, 31.58851824, 6.362939453]\n",
      "[-104.5689571, 31.59103555, 6.157275391]\n",
      "[-96.6945, 15.6555, 10]\n",
      "[-104.4272, 32.5468, 5]\n",
      "[-65.3726666666667, 17.9748333333333, 10.31]\n",
      "[-156.893833333333, 19.5621666666667, 37.73]\n",
      "[-148.7691, 56.264, 10]\n",
      "[-162.8824, 54.029, 35]\n",
      "[-104.4049171, 31.68068532, 6.234399414]\n",
      "[-104.3997511, 31.6749741, 5.745947266]\n",
      "[124.5523, 24.8149, 76.49]\n",
      "[141.3467, 37.5909, 46.6]\n",
      "[-104.4204226, 31.66909306, 6.799975586]\n",
      "[130.6353, -5.9227, 121.93]\n",
      "[146.916, -6.1799, 110.17]\n",
      "[-66.867, 17.9405, 15.93]\n",
      "[145.387, 43.657, 135.36]\n",
      "[-71.632, -15.5851, 123.58]\n",
      "[-66.9875, 17.9951, 11]\n",
      "[-109.2395, 19.5461, 10]\n",
      "[-67.154, 17.9596666666667, 10.03]\n",
      "[119.2211, 14.4872, 10]\n",
      "[143.6546, 52.2077, 10]\n",
      "[130.3114, -6.1917, 139.64]\n",
      "[119.2236, 14.1655, 10]\n",
      "[-67.1185, 17.9503333333333, 12.09]\n",
      "[119.374, 14.1863, 10]\n",
      "[-104.523056, 31.62539614, 6.979931641]\n",
      "[119.407, 14.2434, 10]\n",
      "[-150.5779, 62.7559, 77.5]\n",
      "[-93.7011, 14.633, 10]\n",
      "[-67.3395, 18.7631666666667, 11.7]\n",
      "[114.5499, -10.9805, 10]\n",
      "[-174.896, 50.638, 10]\n",
      "[-178.865, -33.6421, 10]\n",
      "[-67.1868333333333, 19.0691666666667, 35.69]\n",
      "[-119.5887, 41.9645, 1.6]\n",
      "[-66.9455, 17.942, 11.99]\n",
      "[-150.8752, 63.159, 123]\n",
      "[128.5171, -3.3733, 53.76]\n",
      "[-104.3137856, 31.66240624, 6.74855957]\n",
      "[-94.7041, 15.4477, 35]\n",
      "[-104.5667564, 31.58645679, 6.157275391]\n",
      "[122.6971, 9.1604, 62.6]\n",
      "[-69.2388, 18.5356, 150.66]\n",
      "[-66.8321666666667, 17.9911666666667, 15.44]\n",
      "[-122.8101667, 38.828, 1.55]\n",
      "[-66.9538333333333, 17.9363333333333, 12.88]\n",
      "[-66.1021666666667, 18.035, 12.5]\n",
      "[-158.8212, 55.5538, 24.1]\n",
      "[-119.5731, 41.9659, 1.4]\n",
      "[-155.472666666667, 19.1713333333333, 34.91]\n",
      "[-100.8728, 1.4735, 10]\n",
      "[167.5063, -15.2037, 133.21]\n",
      "[141.2268, 36.8647, 44.23]\n",
      "[179.1712, -24.5374, 534.35]\n",
      "[-102.3507765, 31.97479248, 8.485799154]\n",
      "[139.3103, 36.1483, 115.36]\n",
      "[-65.31, 19.0615, 49]\n",
      "[-151.2631, 62.9435, 104.8]\n",
      "[-65.2858, 19.0245, 66]\n",
      "[-104.6261, 31.7181, 5]\n",
      "[-104.5202005, 31.60933161, 6.414355469]\n",
      "[141.8211, 37.8076, 54.82]\n",
      "[-66.8835, 17.8345, 13.71]\n",
      "[145.4552, 18.8822, 266.78]\n",
      "[-67.7431, 17.2841, 10]\n",
      "[-76.3036, 4.9756, 95.2]\n",
      "[121.5371, 23.4783, 21.61]\n",
      "[121.5575, 23.4147, 13.22]\n",
      "[-67.7265, 17.2936666666667, 14.67]\n",
      "[133.5166, -0.6827, 10]\n",
      "[141.7431, 38.8894, 76.18]\n",
      "[-175.2957, -23.6309, 10]\n",
      "[142.1977, 37.8983, 43.66]\n",
      "[-66.8748333333333, 17.81, 7.5]\n",
      "[126.402, 26.7934, 10]\n",
      "[-66.8816666666667, 17.8045, 7.48]\n",
      "[167.3908, -15.1542, 115.69]\n",
      "[-80.2055, -8.5746, 10]\n",
      "[-175.1128, -23.4785, 10]\n",
      "[121.5514, 23.4056, 10]\n",
      "[119.4106, 14.1784, 10]\n",
      "[-74.1075, 18.8144, 10]\n",
      "[-153.0911, 60.2258, 148]\n",
      "[-153.1231, 60.2289, 149.62]\n",
      "[72.6454, 38.0473, 120.48]\n",
      "[126.3985, 26.8458, 10]\n",
      "[44.1258, 41.1919, 10]\n",
      "[-69.685, -24.3474, 111.72]\n",
      "[127.3232, 1.8312, 119.69]\n",
      "[-177.737, -34.0213, 10]\n",
      "[-69.3216, -19.4859, 102.44]\n",
      "[-66.8716666666667, 17.9053333333333, 15.1]\n",
      "[-126.4907, 42.3155, 10]\n",
      "[-97.99804688, 28.90411377, 11.12691243]\n",
      "[122.2937, 19.3608, 10]\n",
      "[172.4234, -22.8997, 10]\n",
      "[147.9559, 43.9578, 46.54]\n",
      "[141.6324, 37.7706, 55.51]\n",
      "[-64.0881, 18.9355, 29]\n",
      "[133.5457, -0.7382, 25.85]\n",
      "[-123.8245, 40.1353333, 22.86]\n",
      "[121.5048, 23.3099, 7.12]\n",
      "[-66.8168, -23.5729, 226.54]\n",
      "[-155.116666666667, 19.3245, 6.24]\n",
      "[-66.949, 17.9518333333333, 10.21]\n",
      "[178.1949, 51.9452, 9.13]\n",
      "[126.5052, 26.8651, 10]\n",
      "[141.7435, 37.7412, 50.29]\n",
      "[-90.7725, 16.5503, 10]\n",
      "[-69.2417, -20.1759, 88.87]\n",
      "[-173.8056, 53.1608, 224.09]\n",
      "[-118.4318333, 34.291, 7.47]\n",
      "[121.5934, 23.385, 10]\n",
      "[-14.2239, -14.1429, 10]\n",
      "[-66.9615, 17.9681666666667, 10.8]\n",
      "[75.2714, 35.6742, 10]\n",
      "[137.2724, 37.4488, 10]\n",
      "[-91.4356, 13.8043, 35]\n",
      "[-79.8098, -8.296, 37.28]\n",
      "[121.486, 23.4245, 22.95]\n",
      "[121.4992, 23.4633, 19.89]\n",
      "[-66.801, 17.9281666666667, 10.68]\n",
      "[121.4514, 23.3749, 15.65]\n",
      "[-66.5426, -23.8642, 191.76]\n",
      "[-66.9315, 17.9691666666667, 13.9]\n",
      "[121.5322, 23.4085, 10]\n",
      "[121.6059, 23.4964, 10]\n"
     ]
    }
   ],
   "source": [
    "#Pull out all cordinates and depths for the earthquakes \n",
    "for q in quakes:\n",
    "    print(q['geometry']['coordinates'])"
   ]
  },
  {
   "cell_type": "code",
   "execution_count": null,
   "metadata": {},
   "outputs": [],
   "source": []
  },
  {
   "cell_type": "code",
   "execution_count": 58,
   "metadata": {},
   "outputs": [
    {
     "name": "stdout",
     "output_type": "stream",
     "text": [
      "324\n"
     ]
    }
   ],
   "source": [
    "# pull out longtitudes and latitudes into a Pandas dataframe, using\n",
    "# a more compact Python syntax for iterating through lists\n",
    "\n",
    "l = {'longtitude': [q['geometry']['coordinates'][0] for q in quakes],\n",
    "      'latitude': [q['geometry']['coordinates'][1] for q in quakes]}\n",
    "df_2 = pd.DataFrame.from_dict(l)\n",
    "\n",
    "# how many earthquakes were loaded into the dataframe?\n",
    "print(len(df))"
   ]
  },
  {
   "cell_type": "code",
   "execution_count": 59,
   "metadata": {},
   "outputs": [
    {
     "name": "stdout",
     "output_type": "stream",
     "text": [
      "   longtitude   latitude\n",
      "0  119.803200  15.025000\n",
      "1 -122.771668  38.799667\n",
      "2 -116.003167  33.190500\n",
      "3 -179.408900 -21.709500\n",
      "4  126.386400  26.779000\n"
     ]
    }
   ],
   "source": [
    "print(df_2.head())"
   ]
  },
  {
   "cell_type": "code",
   "execution_count": 60,
   "metadata": {},
   "outputs": [
    {
     "name": "stdout",
     "output_type": "stream",
     "text": [
      "       longtitude    latitude\n",
      "count  324.000000  324.000000\n",
      "mean   -28.734288   21.028820\n",
      "std    116.774243   23.818745\n",
      "min   -179.786500  -58.732900\n",
      "25%   -115.002650   14.184325\n",
      "50%    -67.503417   19.527300\n",
      "75%    121.511650   37.340650\n",
      "max    179.703600   72.318000\n"
     ]
    }
   ],
   "source": [
    "# print some descriptive statistics\n",
    "\n",
    "print(df_2.describe())"
   ]
  },
  {
   "cell_type": "code",
   "execution_count": 61,
   "metadata": {},
   "outputs": [
    {
     "data": {
      "text/plain": [
       "<AxesSubplot:xlabel='longtitude', ylabel='latitude'>"
      ]
     },
     "execution_count": 61,
     "metadata": {},
     "output_type": "execute_result"
    },
    {
     "data": {
      "image/png": "[encoded data removed]",
      "text/plain": [
       "<Figure size 432x288 with 1 Axes>"
      ]
     },
     "metadata": {
      "needs_background": "light"
     },
     "output_type": "display_data"
    }
   ],
   "source": [
    "df_2.plot(x='longtitude', y='latitude', kind='scatter')"
   ]
  },
  {
   "cell_type": "markdown",
   "metadata": {},
   "source": [
    "# Part 2: Querying an API endpoint\n",
    "\n",
    "### Google Maps Geocoding API\n",
    "\n",
    "Google has lots of APIs that let you access its services through code instead of through GUI apps. This one from Google Maps lets you look up the latitude-longitude coordinates of street addresses.\n",
    "\n",
    "It works similarly to the earthquakes example, but with query parameters added to the URL endpoint!\n",
    "\n",
    "**API documentation:**  \n",
    "https://developers.google.com/maps/documentation/geocoding/intro\n",
    "\n",
    "**API endpoint:**  \n",
    "https://maps.googleapis.com/maps/api/geocode/json\n",
    "\n",
    "**API endpoint with query parameters:**  \n",
    "https://maps.googleapis.com/maps/api/geocode/json?address=Wurster+Hall"
   ]
  },
  {
   "cell_type": "code",
   "execution_count": 15,
   "metadata": {},
   "outputs": [],
   "source": [
    "import json    # library for working with JSON-formatted text strings\n",
    "import requests  # library for accessing content from web URLs\n",
    "\n",
    "import pprint  # library for making Python data structures readable\n",
    "pp = pprint.PrettyPrinter()"
   ]
  },
  {
   "cell_type": "code",
   "execution_count": 16,
   "metadata": {},
   "outputs": [
    {
     "name": "stdout",
     "output_type": "stream",
     "text": [
      "https://maps.googleapis.com/maps/api/geocode/json?address=young+library+uky\n"
     ]
    }
   ],
   "source": [
    "# we have to encode the search query so that it can be passed as a URL, \n",
    "# with spaces and other special characters removed\n",
    "\n",
    "endpoint = 'https://maps.googleapis.com/maps/api/geocode/json'\n",
    "\n",
    "params = {'address': 'young library uky'}\n",
    "\n",
    "url = requests.Request('GET', endpoint, params=params).prepare().url\n",
    "print(url)"
   ]
  },
  {
   "cell_type": "code",
   "execution_count": 17,
   "metadata": {},
   "outputs": [
    {
     "name": "stdout",
     "output_type": "stream",
     "text": [
      "{'error_message': 'You must use an API key to authenticate each request to Google Maps Platform APIs. For additional information, please refer to http://g.co/dev/maps-no-account', 'results': [], 'status': 'REQUEST_DENIED'}\n"
     ]
    }
   ],
   "source": [
    "# download and parse the results\n",
    "\n",
    "response = requests.get(url)\n",
    "results = response.text\n",
    "data = json.loads(results)\n",
    "\n",
    "print(data)"
   ]
  },
  {
   "cell_type": "code",
   "execution_count": 18,
   "metadata": {},
   "outputs": [
    {
     "name": "stdout",
     "output_type": "stream",
     "text": [
      "{'error_message': 'You must use an API key to authenticate each request to '\n",
      "                  'Google Maps Platform APIs. For additional information, '\n",
      "                  'please refer to http://g.co/dev/maps-no-account',\n",
      " 'results': [],\n",
      " 'status': 'REQUEST_DENIED'}\n"
     ]
    }
   ],
   "source": [
    "# print it more nicely\n",
    "\n",
    "pp.pprint(data)"
   ]
  },
  {
   "cell_type": "code",
   "execution_count": 19,
   "metadata": {},
   "outputs": [],
   "source": [
    "# pull out the lat-lon coordinates\n",
    "\n",
    "for r in data['results']:\n",
    "    coords = r['geometry']['location']\n",
    "    print(coords['lat'], coords['lng'])"
   ]
  },
  {
   "cell_type": "markdown",
   "metadata": {},
   "source": [
    "### Exercises\n",
    "\n",
    "1. Search for some other addresses or landmarks!\n",
    "2. Take a look at the [API documentation](https://developers.google.com/maps/documentation/geocoding/intro). What are the usage limits?"
   ]
  },
  {
   "cell_type": "code",
   "execution_count": null,
   "metadata": {},
   "outputs": [],
   "source": []
  },
  {
   "cell_type": "code",
   "execution_count": null,
   "metadata": {},
   "outputs": [],
   "source": []
  },
  {
   "cell_type": "code",
   "execution_count": null,
   "metadata": {},
   "outputs": [],
   "source": []
  },
  {
   "cell_type": "markdown",
   "metadata": {},
   "source": [
    "# Part 3: Querying an API with authentication\n",
    "\n",
    "### Twitter REST APIs\n",
    "\n",
    "Twitter's APIs also operate over the web, but they require a back-and-forth authentication process at the beginning of each connection. It's easier to have a Python library handle this than to create the query URLs ourselves.\n",
    "\n",
    "The Twitter \"REST\" APIs perform stand-alone operations: you submit a query and receive results, like in earlier examples. ([REST](https://en.wikipedia.org/wiki/Representational_state_transfer) is a particular set of guidelines that many APIs follow.) Twitter also has a \"streaming\" API that continues sending results in real time until you disconnect.\n",
    "\n",
    "**API documentation:**  \n",
    "https://dev.twitter.com/rest/public  \n",
    "https://dev.twitter.com/overview/api/tweets\n",
    "\n",
    "**Documentation for the Python helper library**:  \n",
    "https://github.com/geduldig/TwitterAPI"
   ]
  },
  {
   "cell_type": "code",
   "execution_count": 1,
   "metadata": {},
   "outputs": [
    {
     "name": "stdout",
     "output_type": "stream",
     "text": [
      "Requirement already satisfied: TwitterAPI in /opt/anaconda3/lib/python3.9/site-packages (2.7.12)\n",
      "Requirement already satisfied: requests-oauthlib in /opt/anaconda3/lib/python3.9/site-packages (from TwitterAPI) (1.3.1)\n",
      "Requirement already satisfied: requests in /opt/anaconda3/lib/python3.9/site-packages (from TwitterAPI) (2.26.0)\n",
      "Requirement already satisfied: certifi>=2017.4.17 in /opt/anaconda3/lib/python3.9/site-packages (from requests->TwitterAPI) (2021.10.8)\n",
      "Requirement already satisfied: urllib3<1.27,>=1.21.1 in /opt/anaconda3/lib/python3.9/site-packages (from requests->TwitterAPI) (1.26.7)\n",
      "Requirement already satisfied: charset-normalizer~=2.0.0 in /opt/anaconda3/lib/python3.9/site-packages (from requests->TwitterAPI) (2.0.4)\n",
      "Requirement already satisfied: idna<4,>=2.5 in /opt/anaconda3/lib/python3.9/site-packages (from requests->TwitterAPI) (3.2)\n",
      "Requirement already satisfied: oauthlib>=3.0.0 in /opt/anaconda3/lib/python3.9/site-packages (from requests-oauthlib->TwitterAPI) (3.2.0)\n",
      "Note: you may need to restart the kernel to use updated packages.\n"
     ]
    }
   ],
   "source": [
    "pip install TwitterAPI"
   ]
  },
  {
   "cell_type": "code",
   "execution_count": 2,
   "metadata": {},
   "outputs": [],
   "source": [
    "from TwitterAPI import TwitterAPI\n",
    "\n",
    "import pprint  # library for making Python data structures readable\n",
    "pp = pprint.PrettyPrinter()"
   ]
  },
  {
   "cell_type": "code",
   "execution_count": 3,
   "metadata": {},
   "outputs": [],
   "source": [
    "# import API credentials from keys.py file in the\n",
    "# same directory as this notebook\n",
    "\n",
    "from keys import *"
   ]
  },
  {
   "cell_type": "code",
   "execution_count": 4,
   "metadata": {},
   "outputs": [
    {
     "name": "stdout",
     "output_type": "stream",
     "text": [
      "Connection is set up but not tested\n"
     ]
    }
   ],
   "source": [
    "# set up an API connection using credentials from the keys file\n",
    "\n",
    "api = TwitterAPI(consumer_key, consumer_secret, \n",
    "                 access_token, access_token_secret)\n",
    "\n",
    "print(\"Connection is set up but not tested\")"
   ]
  },
  {
   "cell_type": "markdown",
   "metadata": {},
   "source": [
    "### Making a simple data request"
   ]
  },
  {
   "cell_type": "code",
   "execution_count": 8,
   "metadata": {},
   "outputs": [
    {
     "name": "stdout",
     "output_type": "stream",
     "text": [
      "Season Ticket renewals for the 2022 @UKFootball season end this Friday, April 1st!\n",
      "\n",
      "Renew today through your My UK… https://t.co/botl3tashv\n"
     ]
    }
   ],
   "source": [
    "# most recent tweet from @UCBerkeley's timeline\n",
    "\n",
    "endpoint = 'statuses/user_timeline'\n",
    "params = {\n",
    "    'screen_name': 'UKAthletics', \n",
    "    'count': 1\n",
    "}\n",
    "r = api.request(endpoint, params)\n",
    "\n",
    "for tweet in r.get_iterator():\n",
    "    print(tweet['text'])"
   ]
  },
  {
   "cell_type": "code",
   "execution_count": 9,
   "metadata": {},
   "outputs": [
    {
     "name": "stdout",
     "output_type": "stream",
     "text": [
      "{'contributors': None,\n",
      " 'coordinates': None,\n",
      " 'created_at': 'Tue Mar 29 23:00:04 +0000 2022',\n",
      " 'entities': {'hashtags': [],\n",
      "              'symbols': [],\n",
      "              'urls': [{'display_url': 'twitter.com/i/web/status/1…',\n",
      "                        'expanded_url': 'https://twitter.com/i/web/status/1508942094437695493',\n",
      "                        'indices': [116, 139],\n",
      "                        'url': 'https://t.co/botl3tashv'}],\n",
      "              'user_mentions': [{'id': 360022514,\n",
      "                                 'id_str': '360022514',\n",
      "                                 'indices': [36, 47],\n",
      "                                 'name': 'Kentucky Football',\n",
      "                                 'screen_name': 'UKFootball'}]},\n",
      " 'favorite_count': 54,\n",
      " 'favorited': False,\n",
      " 'geo': None,\n",
      " 'id': 1508942094437695493,\n",
      " 'id_str': '1508942094437695493',\n",
      " 'in_reply_to_screen_name': None,\n",
      " 'in_reply_to_status_id': None,\n",
      " 'in_reply_to_status_id_str': None,\n",
      " 'in_reply_to_user_id': None,\n",
      " 'in_reply_to_user_id_str': None,\n",
      " 'is_quote_status': False,\n",
      " 'lang': 'en',\n",
      " 'place': None,\n",
      " 'retweet_count': 8,\n",
      " 'retweeted': False,\n",
      " 'source': '<a href=\"https://twitter.com\" rel=\"nofollow\">Twitter for '\n",
      "           'Advertisers</a>',\n",
      " 'text': 'Season Ticket renewals for the 2022 @UKFootball season end this '\n",
      "         'Friday, April 1st!\\n'\n",
      "         '\\n'\n",
      "         'Renew today through your My UK… https://t.co/botl3tashv',\n",
      " 'truncated': True,\n",
      " 'user': {'contributors_enabled': False,\n",
      "          'created_at': 'Tue Mar 17 18:41:37 +0000 2009',\n",
      "          'default_profile': False,\n",
      "          'default_profile_image': False,\n",
      "          'description': 'The official Twitter account of the University of '\n",
      "                         'Kentucky Athletics Department. Facebook: Kentucky '\n",
      "                         'Wildcats; Instagram: ukathletics; #WeAreUK '\n",
      "                         '#BlueGetsIn #BBN',\n",
      "          'entities': {'description': {'urls': []},\n",
      "                       'url': {'urls': [{'display_url': 'UKathletics.com/Tickets',\n",
      "                                         'expanded_url': 'http://UKathletics.com/Tickets',\n",
      "                                         'indices': [0, 23],\n",
      "                                         'url': 'https://t.co/8igZBVnitf'}]}},\n",
      "          'favourites_count': 8297,\n",
      "          'follow_request_sent': False,\n",
      "          'followers_count': 343105,\n",
      "          'following': False,\n",
      "          'friends_count': 926,\n",
      "          'geo_enabled': True,\n",
      "          'has_extended_profile': False,\n",
      "          'id': 24929053,\n",
      "          'id_str': '24929053',\n",
      "          'is_translation_enabled': False,\n",
      "          'is_translator': False,\n",
      "          'lang': None,\n",
      "          'listed_count': 1368,\n",
      "          'location': 'Lexington, KY',\n",
      "          'name': 'Kentucky Athletics',\n",
      "          'notifications': False,\n",
      "          'profile_background_color': '000738',\n",
      "          'profile_background_image_url': 'http://abs.twimg.com/images/themes/theme9/bg.gif',\n",
      "          'profile_background_image_url_https': 'https://abs.twimg.com/images/themes/theme9/bg.gif',\n",
      "          'profile_background_tile': False,\n",
      "          'profile_banner_url': 'https://pbs.twimg.com/profile_banners/24929053/1599234537',\n",
      "          'profile_image_url': 'http://pbs.twimg.com/profile_images/1402626619420909575/4Jdu4IEg_normal.jpg',\n",
      "          'profile_image_url_https': 'https://pbs.twimg.com/profile_images/1402626619420909575/4Jdu4IEg_normal.jpg',\n",
      "          'profile_link_color': '084AE7',\n",
      "          'profile_sidebar_border_color': 'FFFFFF',\n",
      "          'profile_sidebar_fill_color': 'FFFFFF',\n",
      "          'profile_text_color': '787878',\n",
      "          'profile_use_background_image': True,\n",
      "          'protected': False,\n",
      "          'screen_name': 'UKAthletics',\n",
      "          'statuses_count': 66821,\n",
      "          'time_zone': None,\n",
      "          'translator_type': 'none',\n",
      "          'url': 'https://t.co/8igZBVnitf',\n",
      "          'utc_offset': None,\n",
      "          'verified': True,\n",
      "          'withheld_in_countries': []}}\n"
     ]
    }
   ],
   "source": [
    "# what other data is there?\n",
    "\n",
    "pp.pprint(tweet)"
   ]
  },
  {
   "cell_type": "markdown",
   "metadata": {},
   "source": [
    "### Other API endpoints allow different types of searches"
   ]
  },
  {
   "cell_type": "code",
   "execution_count": 7,
   "metadata": {},
   "outputs": [
    {
     "name": "stdout",
     "output_type": "stream",
     "text": [
      "RT @twtSMH: #BBN Star's ⭐\n",
      "@twtSMH @BAA_WA\n",
      "@Nysar7 @Tcs_12\n",
      "@Hf33z @ea30_4\n",
      "@MiG9t @Azix103\n",
      "@1Aw55 @786Nim\n",
      "@Zeba_Khn @7ilent_1\n",
      "@_paro1 @NZPAK_…\n",
      "\n",
      "RT @Hf33z: Star💫\n",
      "@786Nim @NZPAK_ @Khrm23\n",
      "@M_ZA_5 @NQI_9 @twtSMH\n",
      "@s1_m_s @BBNPROMO @Titl_i\n",
      "@1Aw55 @Azix103 @Yqbh2\n",
      "@Aln_m6 @1kckt @Bhii68\n",
      "@Ra…\n",
      "\n",
      "RT @twtSMH: #BBN Star's ⭐\n",
      "@twtSMH @BAA_WA\n",
      "@Nysar7 @Tcs_12\n",
      "@Hf33z @ea30_4\n",
      "@MiG9t @Azix103\n",
      "@1Aw55 @786Nim\n",
      "@Zeba_Khn @7ilent_1\n",
      "@_paro1 @NZPAK_…\n",
      "\n",
      "RT @_OA01: Star💫\n",
      "@786Nim @NZPAK_ @Khrm23\n",
      "@M_ZA_5 @NQI_9 @twtSMH\n",
      "@s1_m_s @BBNPROMO @Titl_i\n",
      "@1Aw55 @Azix103 @Yqbh2\n",
      "@Aln_m6 @1kckt @Bhii68\n",
      "@Ra…\n",
      "\n",
      "RT @o_mcghee2023: Huge shoutout to @UKCoachLZ + @NiyaButts for coming through to see the fam!!! Looking forward to getting back on campus s…\n",
      "\n"
     ]
    }
   ],
   "source": [
    "# search for public tweets about #BBN\n",
    "\n",
    "endpoint = 'search/tweets'\n",
    "params = {\n",
    "    'q': '#BBN', \n",
    "    'count': 5\n",
    "}\n",
    "r = api.request(endpoint, params)\n",
    "\n",
    "for tweet in r.get_iterator():\n",
    "    print(tweet['text'] + '\\n')"
   ]
  },
  {
   "cell_type": "code",
   "execution_count": 8,
   "metadata": {},
   "outputs": [
    {
     "name": "stdout",
     "output_type": "stream",
     "text": [
      "RT @SevadalDL: ईस्ट एमसीडी के सदन में जमकर चले लात-घूंसे-चप्पल। सत्ता पक्ष और विपक्ष के बीच खूब हुआ असंसदीय शब्दों का इस्तेमाल।\n",
      "\n",
      "दिल्ली का…\n",
      "\n",
      "RT @KVS_HQ: परीक्षा की बात, पीएम के साथ\n",
      "\n",
      "परीक्षा पे चर्चा 2022\n",
      "\n",
      "दिनांक 1 अप्रैल 2022, शुक्रवार\n",
      "प्रातः 11ः00 बजे\n",
      "तालकटोरा स्टेडियम, नई दि…\n",
      "\n",
      "RT @Shalinisahu1234: #AsharamjiBapuQuotes - ' जीवन केवल कमाने खाने और मर जाने के लिए या पशुओं की तरह जीने के लिए नहीं है, जीवन आनंद उल्लास…\n",
      "\n",
      "RT @RamanDi56524846: #महोबा दो महिने की गर्भवती महिला की कर दी नसबंदी महोबा मे कुछ भी मुमकिन उच्च गुलाबी के नशे मे चूर, नटवरलाल कलमकार मरीज…\n",
      "\n",
      "RT @DaggerDD: Kuch bhi kaho Bhabiji badhiya photo grapher hai . Dekho kaise mast click liye hai dhruv bhai ka @InvincibleDhruv . https://t.…\n",
      "\n"
     ]
    }
   ],
   "source": [
    "# search for public tweets in Hindi\n",
    "\n",
    "endpoint = 'search/tweets'\n",
    "params = {\n",
    "    'q': '*', \n",
    "    'lang': 'hi', \n",
    "    'count': 5\n",
    "} \n",
    "r = api.request(endpoint, params)\n",
    "\n",
    "for tweet in r.get_iterator():\n",
    "    print(tweet['text'] + '\\n')"
   ]
  },
  {
   "cell_type": "code",
   "execution_count": 9,
   "metadata": {},
   "outputs": [
    {
     "name": "stdout",
     "output_type": "stream",
     "text": [
      "crying\n",
      "\n",
      "Last week we were joined by Carmen and Drew from the @Reds to tell us about the foundation they have built in sport… https://t.co/LovWAuzz0V\n",
      "\n",
      "Had a great visit at The University of Kentucky‼️@UKFootball \n",
      "@QBUniverseQBU @QBHitList @RabunFootball @coachheavyd… https://t.co/6mBgVdNqgT\n",
      "\n",
      "Lisa L Peel would love to show you the #listing at 435 Park Avenue #Lexington #KY  #realestate… https://t.co/KORuorK73q\n",
      "\n",
      "Another great day at the University of Kentucky! 👍🏻 https://t.co/mWDSKGX4PL\n",
      "\n",
      "I am single-handedly keeping @redbaronpizza in business.\n",
      "\n",
      "Kick off Round 2 of Nutrition Month Madness TODAY at Fresh Food Co! Kevin and Danielle are competing in the battle… https://t.co/NJtmRvC5Hs\n",
      "\n"
     ]
    }
   ],
   "source": [
    "# search for public tweets geotagged near the UK campus\n",
    "\n",
    "endpoint = 'search/tweets'\n",
    "params = {\n",
    "    'q': '*', \n",
    "    'geocode': '38.034,-84.500,0.5km', \n",
    "    'count': 10\n",
    "} \n",
    "r = api.request(endpoint, params)\n",
    "\n",
    "for tweet in r.get_iterator():\n",
    "    print(tweet['text'] + '\\n')"
   ]
  },
  {
   "cell_type": "markdown",
   "metadata": {},
   "source": [
    "### Exercises\n",
    "\n",
    "1. Try some different search queries!\n",
    "2. Display some more data fields in addition to the tweet text"
   ]
  },
  {
   "cell_type": "code",
   "execution_count": null,
   "metadata": {},
   "outputs": [],
   "source": [
    "#Exercise 1. Different search "
   ]
  },
  {
   "cell_type": "code",
   "execution_count": 12,
   "metadata": {},
   "outputs": [
    {
     "name": "stdout",
     "output_type": "stream",
     "text": [
      "150 wooden medals for Axholme North Triathlon finished off today #uktriathlon #triathlon #openwaterswimming… https://t.co/quyqRkZnaV\n",
      "\n"
     ]
    }
   ],
   "source": [
    "# search for public tweets about #UKSwimmimg\n",
    "\n",
    "endpoint = 'search/tweets'\n",
    "params = {\n",
    "    'q': '#UKSwim', \n",
    "    'count': 5\n",
    "}\n",
    "r = api.request(endpoint, params)\n",
    "\n",
    "for tweet in r.get_iterator():\n",
    "    print(tweet['text'] + '\\n')"
   ]
  },
  {
   "cell_type": "code",
   "execution_count": 14,
   "metadata": {},
   "outputs": [
    {
     "name": "stdout",
     "output_type": "stream",
     "text": [
      "@follyflly А в конце заплакал.\n",
      "\n",
      "@rianru Kak в 1941 во времени Второй мировой спецоперации?\n",
      "\n",
      "RT @1VYmMDoG7vUwZfP: @D38301104 @dimash_official\n",
      "\n",
      "#Stranger \n",
      "#Stranger_Dimash\n",
      "#StrangerTheSong \n",
      "#DimashStrangerLive \n",
      "На свете много музыкал…\n",
      "\n",
      "RT @SevcenkoPanas: Каждый президент Украины боролся с советским прошлом понемногу, один улицы переименовывал, другой памятники сносил, трет…\n",
      "\n",
      "RT @myrevolutionrus: Уничтоженная российским спецназом в районе Харькова инкассаторская машина, которая использовалась украинскими национал…\n",
      "\n"
     ]
    }
   ],
   "source": [
    "# search for public tweets in Russian\n",
    "\n",
    "endpoint = 'search/tweets'\n",
    "params = {\n",
    "    'q': '*', \n",
    "    'lang': 'ru', \n",
    "    'count': 5\n",
    "} \n",
    "r = api.request(endpoint, params)\n",
    "\n",
    "for tweet in r.get_iterator():\n",
    "    print(tweet['text'] + '\\n')"
   ]
  },
  {
   "cell_type": "code",
   "execution_count": 15,
   "metadata": {},
   "outputs": [
    {
     "name": "stdout",
     "output_type": "stream",
     "text": [
      "RT @noahdonotcare: \"are u busy rn?\" yes i am listening to music\n",
      "\n",
      "i’m able to bear school and work stress as if nothing but snap for the stupidest reasons. yesterday i literally had… https://t.co/WSCRRd1iD0\n",
      "\n",
      "RT @TIME: HYBE's Bang Si-Hyuk is reinventing the music business—with a little help from BTS (@BTS_twt) #TIME100Companies https://t.co/yhQdn…\n",
      "\n",
      "@onemoreonce4bts @BTS_twt 가자!! \n",
      "\n",
      "Keep streaming #BTS_Butter on all music platforms #BTS \n",
      "@BTS_twt\n",
      "\n",
      "RT @oshcuddles: “HURDLE” IS A POP ROCK SONG FOR THIS JUNMYEON COMEBACK AND WE WILL GET A MUSIC VIDEO FOR IT!!\n",
      "\n",
      "#Suho_Hurdle \n",
      "#SUHO_GreySuit…\n",
      "\n"
     ]
    }
   ],
   "source": [
    "# search for public tweets about #UKSwimmimg\n",
    "\n",
    "endpoint = 'search/tweets'\n",
    "params = {\n",
    "    'q': 'music', \n",
    "    'count': 5\n",
    "}\n",
    "r = api.request(endpoint, params)\n",
    "\n",
    "for tweet in r.get_iterator():\n",
    "    print(tweet['text'] + '\\n')"
   ]
  },
  {
   "cell_type": "code",
   "execution_count": null,
   "metadata": {},
   "outputs": [],
   "source": [
    "#Exercise 2. Searching for more data fields"
   ]
  },
  {
   "cell_type": "code",
   "execution_count": null,
   "metadata": {},
   "outputs": [],
   "source": [
    "#How can we pull out memes or pictures instead of text?\n"
   ]
  },
  {
   "cell_type": "code",
   "execution_count": null,
   "metadata": {},
   "outputs": [],
   "source": []
  },
  {
   "cell_type": "markdown",
   "metadata": {},
   "source": [
    "### Bonus: Streaming live tweets in real time "
   ]
  },
  {
   "cell_type": "code",
   "execution_count": 10,
   "metadata": {},
   "outputs": [
    {
     "name": "stdout",
     "output_type": "stream",
     "text": [
      "Wed Mar 30 17:25:06 +0000 2022\n",
      "Morgantown, WV, United States\n",
      "Me 🤣\n",
      "\n",
      "Wed Mar 30 17:25:06 +0000 2022\n",
      "Alexandria, Egypt, Egypt\n",
      "هيحصل اى لو الدنيا أدت كل واحد الشخص إلى بيحبه ويفضلوا سوا ويعيشوا ف سلام كدا...؟ هل الدنيا هتخس؟ ولا كرامتها مش سا… https://t.co/svt3z3BaMZ\n",
      "\n",
      "Wed Mar 30 17:25:06 +0000 2022\n",
      "Braulio E. Dujali, Davao Region, Republic of the Philippines\n",
      "Na balingag najud imong utok tungod sa politima HAHA. Mao gani gi block takas Facebook og diris twitter no kay samo… https://t.co/IVvv9J4tdx\n",
      "\n",
      "Wed Mar 30 17:25:06 +0000 2022\n",
      "Greater Vancouver, British Columbia, Canada\n",
      "不明白到底辱了你哪里总觉得世界与你为敌👉👈\n",
      "\n",
      "Wed Mar 30 17:25:06 +0000 2022\n",
      "Chivenor, England, United Kingdom\n",
      "@GinaPera @XianJaneway Snap! I love the Liberation theologians and Jesuits. They made a huge difference and of cour… https://t.co/9ODure22QE\n",
      "\n",
      "Wed Mar 30 17:25:06 +0000 2022\n",
      "Centurion, South Africa, South Africa\n",
      "@ATswanaGoddess 😭😭 Why didn't he have a sense of humor le ene? 💀😂\n",
      "\n",
      "Wed Mar 30 17:25:06 +0000 2022\n",
      "Parma Heights, OH, United States\n",
      "Thom Tillis specifically said he was frustrated that Ketanji Brown Jackson wouldn’t take a firm stand against court… https://t.co/1EGfMOLw1N\n",
      "\n",
      "Wed Mar 30 17:25:06 +0000 2022\n",
      "Zempoala, Hidalgo, México\n",
      "“Si quieres,\n",
      "buscamos agua en el desierto,\n",
      "rompemos las reglas del tiempo para poder verte…\"\n",
      "\n",
      "- @diegoojeda85\n",
      "\n",
      "Wed Mar 30 17:25:06 +0000 2022\n",
      "Miguel Hidalgo, Distrito Federal, México\n",
      "@chicojames3 Que rico culito me gustaría poder llenarlo de leche\n",
      "\n",
      "Wed Mar 30 17:25:06 +0000 2022\n",
      "North Liberty, IA, United States\n",
      "Current mood: https://t.co/e4CfMaRMLj\n",
      "\n",
      "Wed Mar 30 17:25:06 +0000 2022\n",
      "São Paulo, Brasil, Brasil\n",
      "@_Jonathananjos_ Tb não acho o mais corretos usar esses termos, mas além da variável “Abel”, existem outros pontos… https://t.co/Ow4ip7CGka\n",
      "\n",
      "Wed Mar 30 17:25:06 +0000 2022\n",
      "Sao Paulo, Brazil, Brazil\n",
      "fala q é sem sentimento\n",
      "mas quando eu sento, apaixona\n",
      "\n",
      "Wed Mar 30 17:25:06 +0000 2022\n",
      "Menaldumadeel, Nederland, Nederland\n",
      "Wind 0 km/h ---. Barometer 1003,0 hPa, Pressure trend. Temperature 4,7 °C. Rain today 0,0mm. Humidity 73%\n",
      "\n",
      "Wed Mar 30 17:25:06 +0000 2022\n",
      "Krishananagar, India, India\n",
      "@mipaltan @Ramandeep__13 https://t.co/fXqMhDFNYj\n",
      "\n",
      "Wed Mar 30 17:25:06 +0000 2022\n",
      "Paris, France, France\n",
      "@Zoo97216981 Ça donne envie de se la prendre 🥵🥵\n",
      "\n",
      "Wed Mar 30 17:25:06 +0000 2022\n",
      "Haarlemmermeer, Nederland, Nederland\n",
      "De #aalsmeerderbrug ging open om 19:23 en zal 5 minuten open zijn. Zie https://t.co/8qCfjwsLDb #brugopen\n",
      "\n",
      "Wed Mar 30 17:25:06 +0000 2022\n",
      "Abuja, Nigeria, Nigeria\n",
      "@LevelBouy Na this your yeye talk you go de teach for your Learning Centre?\n",
      "\n",
      "Wed Mar 30 17:25:07 +0000 2022\n",
      "Juiz de Fora, Brasil, Brasil\n",
      "@luisalimay Não tem porque era ruim pra c...\n",
      "\n",
      "Wed Mar 30 17:25:07 +0000 2022\n",
      "Ecatepec de Morelos, México, México\n",
      "@Friedducha Me encantan tus vestidos 💕\n",
      "\n",
      "Wed Mar 30 17:25:07 +0000 2022\n",
      "Leisure City, FL, United States\n",
      "Specifically 🫠🫡\n",
      "\n",
      "Wed Mar 30 17:25:06 +0000 2022\n",
      "Mérida, Yucatán, México\n",
      "Miércoles con M de... (?)\n",
      "\n",
      "Disculpen el fondo echo un cagadero jsjsjs. 🙈 https://t.co/2IAfWRj1yv\n",
      "\n",
      "Wed Mar 30 17:25:06 +0000 2022\n",
      "静岡 御殿場市, 日本\n",
      "郷愁さそう鉄道風景!? 桜も見事な「樽見鉄道」11の面白ポイント - GetNavi web https://t.co/t5ItOoQumM #静岡県 #静岡県東部 #御殿場市 https://t.co/WFLwqsoLK1\n",
      "\n"
     ]
    }
   ],
   "source": [
    "# Twitter limits simultaneous connections to the streaming API,\n",
    "# so this part may not work using the demo API keys during class\n",
    "\n",
    "endpoint = 'statuses/filter'\n",
    "params = {'locations': '-180,-90,180,90'}\n",
    "r = api.request(endpoint, params)\n",
    "LIMIT = 20\n",
    "\n",
    "# 'enumerate' lets us count tweets as we receive them\n",
    "\n",
    "for i, tweet in enumerate(r.get_iterator()):\n",
    "    print(tweet['created_at'])\n",
    "    print(tweet['place']['full_name'] + ', ' + tweet['place']['country'])\n",
    "    print(tweet['text'] + '\\n')\n",
    "    if (i > LIMIT): break\n",
    "\n",
    "# close the streaming connection\n",
    "r.close()"
   ]
  },
  {
   "cell_type": "code",
   "execution_count": null,
   "metadata": {},
   "outputs": [],
   "source": []
  },
  {
   "cell_type": "code",
   "execution_count": null,
   "metadata": {},
   "outputs": [],
   "source": []
  },
  {
   "cell_type": "code",
   "execution_count": null,
   "metadata": {},
   "outputs": [],
   "source": []
  },
  {
   "cell_type": "markdown",
   "metadata": {},
   "source": [
    "### Exercises for the remainder of class\n",
    "\n",
    "1. Make a scatter plot of the lat-lon coordinates of earthquakes.  \n",
    "   &nbsp;\n",
    "   \n",
    "2. Using the geocoding example as a starting point, try searching the Google Maps Directions API or Elevation API instead. Descriptions are in the [API documentation](https://developers.google.com/maps/documentation/geocoding/intro).  \n",
    "   &nbsp;\n",
    "   "
   ]
  },
  {
   "cell_type": "code",
   "execution_count": null,
   "metadata": {},
   "outputs": [],
   "source": [
    "#Excersise 1, Scatter plot of earthquakes lat - lon "
   ]
  },
  {
   "cell_type": "code",
   "execution_count": 62,
   "metadata": {},
   "outputs": [
    {
     "name": "stdout",
     "output_type": "stream",
     "text": [
      "[119.8032, 15.025, 47.44]\n",
      "[-122.7716675, 38.7996674, 0.48]\n",
      "[-116.0031667, 33.1905, 6.52]\n",
      "[-179.4089, -21.7095, 605.6]\n",
      "[126.3864, 26.779, 10]\n",
      "[126.4369, 26.8123, 10]\n",
      "[-104.396, 15.2266, 10]\n",
      "[119.3435, 14.109, 10]\n",
      "[141.9988, 38.286, 35]\n",
      "[141.8255, 40.1422, 33.46]\n",
      "[126.5865, 26.8631, 10]\n",
      "[124.55, 25.8291, 189.37]\n",
      "[-79.802, -10.2702, 10]\n",
      "[-155.616166666667, 19.42, -0.79]\n",
      "[-155.658828735352, 19.5021667480469, -1.23000001907349]\n",
      "[-155.677, 19.5085, 5.11]\n",
      "[-151.2371, 61.9928, 68.2]\n",
      "[21.2267, 38.8865, 10]\n",
      "[-66.8941666666667, 17.9443333333333, 7.26]\n",
      "[-67.7135, 19.375, 49]\n",
      "[-67.1073333333333, 17.9455, 10.94]\n",
      "[122.3055, 23.9243, 10]\n",
      "[-153.5874, 60.1596, 166]\n",
      "[138.8378, -35.2131, 10]\n",
      "[132.723, -5.6818, 10]\n",
      "[170.069, -22.1111, 10]\n",
      "[-104.2152, 31.6384, 5]\n",
      "[-110.922, 44.7578333, 10.21]\n",
      "[-103.1901, 31.1443, 6.44]\n",
      "[-111.4633333, 42.5991667, 3.79]\n",
      "[-66.4228333333333, 18.562, 78.96]\n",
      "[-156.091333333333, 19.8993333333333, 46.54]\n",
      "[-67.1143333333333, 17.956, 10.71]\n",
      "[-179.7865, -23.7103, 530.38]\n",
      "[-152.3265, 59.0758, 49.3]\n",
      "[-152.2327, 59.3864, 66.9]\n",
      "[77.8065, 35.9756, 10]\n",
      "[14.0079, 38.9551, 400.11]\n",
      "[169.1003, -18.7663, 208.17]\n",
      "[-103.2066333, 31.15696274, 4.614794922]\n",
      "[-104.333, 31.6603, 5]\n",
      "[-66.7623333333333, 18.0043333333333, 12.22]\n",
      "[-177.7962, -30.108, 44.54]\n",
      "[-138.2855, 57.1226, 10]\n",
      "[-65.3523333333333, 17.9743333333333, 7.19]\n",
      "[93.0138, 14.63, 10]\n",
      "[-68.5596, 17.8638, 80]\n",
      "[105.5596, -6.4365, 140.97]\n",
      "[122.29, 23.932, 10]\n",
      "[-178.4336, -17.8326, 554.11]\n",
      "[-80.6192, 7.4318, 10]\n",
      "[-104.5507, 31.5678, 5]\n",
      "[-84.6182, 17.1749, 10]\n",
      "[-104.2237336, 31.63946138, 7.519799805]\n",
      "[-104.2075, 31.6409, 5]\n",
      "[126.3942, 8.7622, 78.17]\n",
      "[-104.2116, 31.6481, 5.47]\n",
      "[141.9295, 37.7352, 58.16]\n",
      "[-104.2133291, 31.65215327, 6.157275391]\n",
      "[-115.6095, 33.1831667, 2.28]\n",
      "[-66.3906666666667, 18.2535, 31.69]\n",
      "[-174.1025, 51.1518, 10]\n",
      "[-156.0895, 57.7589, 115.38]\n",
      "[-66.9666666666667, 18.7335, 56.17]\n",
      "[122.0552, 21.21, 177.61]\n",
      "[-178.1272, -22.8271, 348.62]\n",
      "[-67.5583333333333, 18.219, 25.29]\n",
      "[-122.8886667, 39.3458333, 8.76]\n",
      "[-25.4109, -58.7329, 35]\n",
      "[-66.8506666666667, 17.9241666666667, 12.11]\n",
      "[-66.7225, 18.822, 40.77]\n",
      "[-66.2711, -22.5371, 243.08]\n",
      "[-104.5827, 31.5882, 5]\n",
      "[129.9342, -6.4463, 152.61]\n",
      "[-71.4476, -30.3376, 35.56]\n",
      "[-155.382833333333, 19.2535, 32.24]\n",
      "[-66.8755, 17.8803333333333, 13.36]\n",
      "[-177.7189, -22.6667, 298.95]\n",
      "[-103.2443929, 31.0715764, 2.866650391]\n",
      "[-145.9625, 63.9426, 2.6]\n",
      "[-79.6639, 0.8097, 46.48]\n",
      "[-79.5796, 0.9497, 8.13]\n",
      "[-104.2359125, 31.64927944, 7.699755859]\n",
      "[-66.478, 19.08, 28.95]\n",
      "[-68.3295, 18.6583, 113]\n",
      "[-72.1914, -33.5571, 19.4]\n",
      "[-66.4715, 19.1173333333333, 22.96]\n",
      "[-66.4706666666667, 19.0796666666667, 38.42]\n",
      "[-66.4603333333333, 19.0428333333333, 40.6]\n",
      "[142.6138, 42.5182, 36.31]\n",
      "[23.4689, 38.373, 10]\n",
      "[120.7801, -1.21, 10]\n",
      "[-66.9196666666667, 17.9458333333333, 9.4]\n",
      "[-66.8405, 17.9543333333333, 16.42]\n",
      "[-97.42216667, 35.674, 7.08]\n",
      "[-68.4233, 18.3031, 3]\n",
      "[141.6567, 37.8843, 65.08]\n",
      "[125.03, 72.318, 10]\n",
      "[-104.0986, 31.6117, 5]\n",
      "[-107.5766, 18.7527, 10]\n",
      "[-115.061, 44.2523333, 8.46]\n",
      "[-104.574, 31.5692, 4.8]\n",
      "[141.6244, 37.4792, 56.92]\n",
      "[-104.5082294, 31.72822524, 5.154663086]\n",
      "[-88.2734, 11.9477, 10]\n",
      "[-103.9664, 31.6127, 3.28]\n",
      "[-148.1585, 61.7451, 20.1]\n",
      "[-103.9782366, 31.61383378, 7.93112793]\n",
      "[-104.4007, 31.6766, 5]\n",
      "[-67.2431, -31.6909, 125.81]\n",
      "[106.0525, -6.508, 144.21]\n",
      "[-79.6443, 0.8396, 10.49]\n",
      "[-179.0287, -29.887, 224.01]\n",
      "[-152.8319, 59.3951, 72.1]\n",
      "[-79.5894, 0.9088, 26.52]\n",
      "[-104.4027, 31.6495, 5]\n",
      "[-163.0654, 65.3149, 16.27]\n",
      "[141.8591, 37.8, 66.28]\n",
      "[-67.4485, 18.9468333333333, 17.32]\n",
      "[-83.1498333, 36.5358333, 9.78]\n",
      "[-129.4524, 44.1165, 10]\n",
      "[66.171, -13.809, 10.15]\n",
      "[121.5044, 23.3805, 18.97]\n",
      "[143.0013, 42.3512, 58.43]\n",
      "[129.9243, -6.7763, 114.28]\n",
      "[-139.3667, 59.7452, 0]\n",
      "[-163.507, 65.8121, 13.66]\n",
      "[-178.1783, 51.2187, 47.25]\n",
      "[148.6887, -6.283, 53.39]\n",
      "[-155.066, 19.3726666666667, 6.73]\n",
      "[-156.0677, 54.7006, 11.9]\n",
      "[122.1716, 20.8152, 10]\n",
      "[-119.5428333, 38.5136667, -0.46]\n",
      "[-104.5797334, 31.59278925, 6.568603515999999]\n",
      "[126.3125, 27.0102, 10]\n",
      "[126.5065, 26.8002, 10]\n",
      "[-157.5172, 19.667, 16.23]\n",
      "[179.7036, 52.1164, 176.1]\n",
      "[121.7325, -7.5785, 10]\n",
      "[122.0982, 20.8222, 10]\n",
      "[122.825, -3.8154, 10]\n",
      "[122.8479, -3.9683, 10]\n",
      "[-159.6874, 54.3543, 20.91]\n",
      "[-155.477666666667, 19.1743333333333, 31.83]\n",
      "[-119.5418333, 38.5153333, -0.78]\n",
      "[-114.9832, 37.3046, 2.7]\n",
      "[-120.2005, 35.9705, 18.78]\n",
      "[-117.9348333, 37.0676667, 8.44]\n",
      "[-158.0076, 56.2598, 89.1]\n",
      "[-66.9456, 17.9616, 7]\n",
      "[122.7013, -3.8261, 10]\n",
      "[-164.1616, 55.3266, 169.99]\n",
      "[-178.8147, -20.8124, 597.7]\n",
      "[-178.8459, -20.7478, 595.85]\n",
      "[-150.8713, 62.8222, 91.4]\n",
      "[-66.84, 17.952, 12.37]\n",
      "[-145.0025, 65.4278, 5.8]\n",
      "[-104.4208505, 31.65714076, 4.846166992]\n",
      "[-104.814, 36.8428, 5]\n",
      "[126.8757, 3.4717, 75.58]\n",
      "[-104.4071, 31.6399, 5]\n",
      "[-66.8145, 17.951, 9.79]\n",
      "[128.7134, 28.6755, 10]\n",
      "[-66.959, 17.9335, 11.63]\n",
      "[141.2056, 33.5933, 35]\n",
      "[151.3799, -5.8247, 35]\n",
      "[-70.0684, -20.3624, 17.97]\n",
      "[-122.2585, 39.1266667, -0.49]\n",
      "[-82.7762, 8.7831, 10]\n",
      "[-179.5798, -24.415, 507.53]\n",
      "[-92.4427, 14.8037, 87.49]\n",
      "[147.5771, -6.1551, 57.7]\n",
      "[97.3007, 38.5694, 10]\n",
      "[-62.6982, 17.4477, 12.23]\n",
      "[-151.667, 61.2122, 68.3]\n",
      "[97.2371, 38.5597, 10]\n",
      "[-70.9373, -34.7587, 108.92]\n",
      "[97.296, 38.5517, 10]\n",
      "[-119.5386667, 38.5188333, 0.1]\n",
      "[97.2948, 38.5457, 10]\n",
      "[-148.7812, 56.3516, 10]\n",
      "[133.5884, -0.6901, 33.17]\n",
      "[-104.5184216, 31.59325903, 5.540283203000001]\n",
      "[-151.1754, 63.3387, 6]\n",
      "[-151.2453, 63.3169, 7]\n",
      "[-155.476333333333, 19.1615, 32.41]\n",
      "[141.4066, 37.5831, 51.79]\n",
      "[167.3331, -17.8461, 10]\n",
      "[122.785, -3.7875, 10]\n",
      "[-60.9004, 16.8113, 37.78]\n",
      "[-155.4725, 19.164, 31.73]\n",
      "[-155.474333333333, 19.1651666666667, 31.82]\n",
      "[123.9301, 0.4001, 203]\n",
      "[-178.5481, -33.884, 10]\n",
      "[146.0724, 43.3861, 91.82]\n",
      "[-104.5377352, 31.58851824, 6.362939453]\n",
      "[-104.5689571, 31.59103555, 6.157275391]\n",
      "[-96.6945, 15.6555, 10]\n",
      "[-104.4272, 32.5468, 5]\n",
      "[-65.3726666666667, 17.9748333333333, 10.31]\n",
      "[-156.893833333333, 19.5621666666667, 37.73]\n",
      "[-148.7691, 56.264, 10]\n",
      "[-162.8824, 54.029, 35]\n",
      "[-104.4049171, 31.68068532, 6.234399414]\n",
      "[-104.3997511, 31.6749741, 5.745947266]\n",
      "[124.5523, 24.8149, 76.49]\n",
      "[141.3467, 37.5909, 46.6]\n",
      "[-104.4204226, 31.66909306, 6.799975586]\n",
      "[130.6353, -5.9227, 121.93]\n",
      "[146.916, -6.1799, 110.17]\n",
      "[-66.867, 17.9405, 15.93]\n",
      "[145.387, 43.657, 135.36]\n",
      "[-71.632, -15.5851, 123.58]\n",
      "[-66.9875, 17.9951, 11]\n",
      "[-109.2395, 19.5461, 10]\n",
      "[-67.154, 17.9596666666667, 10.03]\n",
      "[119.2211, 14.4872, 10]\n",
      "[143.6546, 52.2077, 10]\n",
      "[130.3114, -6.1917, 139.64]\n",
      "[119.2236, 14.1655, 10]\n",
      "[-67.1185, 17.9503333333333, 12.09]\n",
      "[119.374, 14.1863, 10]\n",
      "[-104.523056, 31.62539614, 6.979931641]\n",
      "[119.407, 14.2434, 10]\n",
      "[-150.5779, 62.7559, 77.5]\n",
      "[-93.7011, 14.633, 10]\n",
      "[-67.3395, 18.7631666666667, 11.7]\n",
      "[114.5499, -10.9805, 10]\n",
      "[-174.896, 50.638, 10]\n",
      "[-178.865, -33.6421, 10]\n",
      "[-67.1868333333333, 19.0691666666667, 35.69]\n",
      "[-119.5887, 41.9645, 1.6]\n",
      "[-66.9455, 17.942, 11.99]\n",
      "[-150.8752, 63.159, 123]\n",
      "[128.5171, -3.3733, 53.76]\n",
      "[-104.3137856, 31.66240624, 6.74855957]\n",
      "[-94.7041, 15.4477, 35]\n",
      "[-104.5667564, 31.58645679, 6.157275391]\n",
      "[122.6971, 9.1604, 62.6]\n",
      "[-69.2388, 18.5356, 150.66]\n",
      "[-66.8321666666667, 17.9911666666667, 15.44]\n",
      "[-122.8101667, 38.828, 1.55]\n",
      "[-66.9538333333333, 17.9363333333333, 12.88]\n",
      "[-66.1021666666667, 18.035, 12.5]\n",
      "[-158.8212, 55.5538, 24.1]\n",
      "[-119.5731, 41.9659, 1.4]\n",
      "[-155.472666666667, 19.1713333333333, 34.91]\n",
      "[-100.8728, 1.4735, 10]\n",
      "[167.5063, -15.2037, 133.21]\n",
      "[141.2268, 36.8647, 44.23]\n",
      "[179.1712, -24.5374, 534.35]\n",
      "[-102.3507765, 31.97479248, 8.485799154]\n",
      "[139.3103, 36.1483, 115.36]\n",
      "[-65.31, 19.0615, 49]\n",
      "[-151.2631, 62.9435, 104.8]\n",
      "[-65.2858, 19.0245, 66]\n",
      "[-104.6261, 31.7181, 5]\n",
      "[-104.5202005, 31.60933161, 6.414355469]\n",
      "[141.8211, 37.8076, 54.82]\n",
      "[-66.8835, 17.8345, 13.71]\n",
      "[145.4552, 18.8822, 266.78]\n",
      "[-67.7431, 17.2841, 10]\n",
      "[-76.3036, 4.9756, 95.2]\n",
      "[121.5371, 23.4783, 21.61]\n",
      "[121.5575, 23.4147, 13.22]\n",
      "[-67.7265, 17.2936666666667, 14.67]\n",
      "[133.5166, -0.6827, 10]\n",
      "[141.7431, 38.8894, 76.18]\n",
      "[-175.2957, -23.6309, 10]\n",
      "[142.1977, 37.8983, 43.66]\n",
      "[-66.8748333333333, 17.81, 7.5]\n",
      "[126.402, 26.7934, 10]\n",
      "[-66.8816666666667, 17.8045, 7.48]\n",
      "[167.3908, -15.1542, 115.69]\n",
      "[-80.2055, -8.5746, 10]\n",
      "[-175.1128, -23.4785, 10]\n",
      "[121.5514, 23.4056, 10]\n",
      "[119.4106, 14.1784, 10]\n",
      "[-74.1075, 18.8144, 10]\n",
      "[-153.0911, 60.2258, 148]\n",
      "[-153.1231, 60.2289, 149.62]\n",
      "[72.6454, 38.0473, 120.48]\n",
      "[126.3985, 26.8458, 10]\n",
      "[44.1258, 41.1919, 10]\n",
      "[-69.685, -24.3474, 111.72]\n",
      "[127.3232, 1.8312, 119.69]\n",
      "[-177.737, -34.0213, 10]\n",
      "[-69.3216, -19.4859, 102.44]\n",
      "[-66.8716666666667, 17.9053333333333, 15.1]\n",
      "[-126.4907, 42.3155, 10]\n",
      "[-97.99804688, 28.90411377, 11.12691243]\n",
      "[122.2937, 19.3608, 10]\n",
      "[172.4234, -22.8997, 10]\n",
      "[147.9559, 43.9578, 46.54]\n",
      "[141.6324, 37.7706, 55.51]\n",
      "[-64.0881, 18.9355, 29]\n",
      "[133.5457, -0.7382, 25.85]\n",
      "[-123.8245, 40.1353333, 22.86]\n",
      "[121.5048, 23.3099, 7.12]\n",
      "[-66.8168, -23.5729, 226.54]\n",
      "[-155.116666666667, 19.3245, 6.24]\n",
      "[-66.949, 17.9518333333333, 10.21]\n",
      "[178.1949, 51.9452, 9.13]\n",
      "[126.5052, 26.8651, 10]\n",
      "[141.7435, 37.7412, 50.29]\n",
      "[-90.7725, 16.5503, 10]\n",
      "[-69.2417, -20.1759, 88.87]\n",
      "[-173.8056, 53.1608, 224.09]\n",
      "[-118.4318333, 34.291, 7.47]\n",
      "[121.5934, 23.385, 10]\n",
      "[-14.2239, -14.1429, 10]\n",
      "[-66.9615, 17.9681666666667, 10.8]\n",
      "[75.2714, 35.6742, 10]\n",
      "[137.2724, 37.4488, 10]\n",
      "[-91.4356, 13.8043, 35]\n",
      "[-79.8098, -8.296, 37.28]\n",
      "[121.486, 23.4245, 22.95]\n",
      "[121.4992, 23.4633, 19.89]\n",
      "[-66.801, 17.9281666666667, 10.68]\n",
      "[121.4514, 23.3749, 15.65]\n",
      "[-66.5426, -23.8642, 191.76]\n",
      "[-66.9315, 17.9691666666667, 13.9]\n",
      "[121.5322, 23.4085, 10]\n",
      "[121.6059, 23.4964, 10]\n"
     ]
    }
   ],
   "source": [
    "#Pull out all cordinates and depths for the earthquakes \n",
    "for q in quakes:\n",
    "    print(q['geometry']['coordinates'])"
   ]
  },
  {
   "cell_type": "code",
   "execution_count": 63,
   "metadata": {},
   "outputs": [
    {
     "name": "stdout",
     "output_type": "stream",
     "text": [
      "324\n"
     ]
    }
   ],
   "source": [
    "# pull out longtitudes and latitudes into a Pandas dataframe, using\n",
    "# a more compact Python syntax for iterating through lists\n",
    "\n",
    "l = {'longtitude': [q['geometry']['coordinates'][0] for q in quakes],\n",
    "      'latitude': [q['geometry']['coordinates'][1] for q in quakes]}\n",
    "df_2 = pd.DataFrame.from_dict(l)\n",
    "\n",
    "# how many earthquakes were loaded into the dataframe?\n",
    "print(len(df))"
   ]
  },
  {
   "cell_type": "code",
   "execution_count": 64,
   "metadata": {},
   "outputs": [
    {
     "name": "stdout",
     "output_type": "stream",
     "text": [
      "   longtitude   latitude\n",
      "0  119.803200  15.025000\n",
      "1 -122.771668  38.799667\n",
      "2 -116.003167  33.190500\n",
      "3 -179.408900 -21.709500\n",
      "4  126.386400  26.779000\n"
     ]
    }
   ],
   "source": [
    "print(df_2.head())"
   ]
  },
  {
   "cell_type": "code",
   "execution_count": 65,
   "metadata": {},
   "outputs": [
    {
     "name": "stdout",
     "output_type": "stream",
     "text": [
      "       longtitude    latitude\n",
      "count  324.000000  324.000000\n",
      "mean   -28.734288   21.028820\n",
      "std    116.774243   23.818745\n",
      "min   -179.786500  -58.732900\n",
      "25%   -115.002650   14.184325\n",
      "50%    -67.503417   19.527300\n",
      "75%    121.511650   37.340650\n",
      "max    179.703600   72.318000\n"
     ]
    }
   ],
   "source": [
    "# print some descriptive statistics\n",
    "print(df_2.describe())"
   ]
  },
  {
   "cell_type": "code",
   "execution_count": 66,
   "metadata": {},
   "outputs": [
    {
     "data": {
      "text/plain": [
       "<AxesSubplot:xlabel='longtitude', ylabel='latitude'>"
      ]
     },
     "execution_count": 66,
     "metadata": {},
     "output_type": "execute_result"
    },
    {
     "data": {
      "image/png": "[encoded data removed]",
      "text/plain": [
       "<Figure size 432x288 with 1 Axes>"
      ]
     },
     "metadata": {
      "needs_background": "light"
     },
     "output_type": "display_data"
    }
   ],
   "source": [
    "#Scatter Plot lon vs lat\n",
    "df_2.plot(x='longtitude', y='latitude', kind='scatter')"
   ]
  },
  {
   "cell_type": "markdown",
   "metadata": {
    "collapsed": true
   },
   "source": [
    "### For next time...\n",
    "\n",
    "In the next class, you will try out another API that provides data you're interested in. You will be asked to try connecting to it using Python code, and performing some basic operations on the data.  To come prepared for next time, please explore some of the transportation-related APIs that may be valuable, and choose one that is of interest to you.\n",
    "\n",
    "Here are a a few to get you started. \n",
    "\n",
    "Public Transit\n",
    "https://www.programmableweb.com/news/how-smart-cities-are-using-apis-public-transport-apis/2014/05/22\n",
    "\n",
    "Long-Distance Travel\n",
    "http://www.olery.com/blog/the-best-travel-apis-discover-contribute/ \n",
    "\n",
    "Transportation\n",
    "https://www.programmableweb.com/category/transportation/api\n",
    "\n",
    "\n",
    "Start by reading the public transit page, because that provides a nice overview of the types of applications out there, and some of the issues in using them.  These lessons often apply to traffic and transportation more generally.  \n",
    "\n",
    "Keep in mind that there are a number of different organizations that provide APIs, with different motivations and quality of what is provided.  If it is a private company, what is their business model?  What is the underlying source of the data, and what might that imply about how representative it is of the real world?  There is a ton of stuff out there.  How do we go about sorting out what is useful to us and what is now.  Spend some time exploring these and thinking about these questions.  \n"
   ]
  },
  {
   "cell_type": "code",
   "execution_count": null,
   "metadata": {},
   "outputs": [],
   "source": []
  },
  {
   "cell_type": "code",
   "execution_count": null,
   "metadata": {},
   "outputs": [],
   "source": []
  },
  {
   "cell_type": "code",
   "execution_count": null,
   "metadata": {},
   "outputs": [],
   "source": []
  }
 ],
 "metadata": {
  "anaconda-cloud": {},
  "kernelspec": {
   "display_name": "Python 3 (ipykernel)",
   "language": "python",
   "name": "python3"
  },
  "language_info": {
   "codemirror_mode": {
    "name": "ipython",
    "version": 3
   },
   "file_extension": ".py",
   "mimetype": "text/x-python",
   "name": "python",
   "nbconvert_exporter": "python",
   "pygments_lexer": "ipython3",
   "version": "3.9.7"
  }
 },
 "nbformat": 4,
 "nbformat_minor": 1
}
